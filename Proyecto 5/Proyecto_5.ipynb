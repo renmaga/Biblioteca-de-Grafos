{
 "cells": [
  {
   "cell_type": "code",
   "execution_count": 1,
   "metadata": {
    "colab": {
     "base_uri": "https://localhost:8080/"
    },
    "id": "DII-dDxQEgsQ",
    "outputId": "5c3477f5-a401-43e4-dfff-74e06330df2d"
   },
   "outputs": [
    {
     "name": "stdout",
     "output_type": "stream",
     "text": [
      "Requirement already satisfied: pygame in d:\\conda\\lib\\site-packages (2.1.2)\n"
     ]
    }
   ],
   "source": [
    "! pip install pygame"
   ]
  },
  {
   "cell_type": "code",
   "execution_count": 2,
   "metadata": {
    "colab": {
     "base_uri": "https://localhost:8080/"
    },
    "id": "H85VFoUPWBHa",
    "outputId": "4177e5e5-c6fb-47b1-f155-dfc31a205e87"
   },
   "outputs": [
    {
     "name": "stdout",
     "output_type": "stream",
     "text": [
      "pygame 2.1.2 (SDL 2.0.18, Python 3.9.7)\n",
      "Hello from the pygame community. https://www.pygame.org/contribute.html\n"
     ]
    }
   ],
   "source": [
    "import numpy as np\n",
    "import random\n",
    "import math \n",
    "import copy\n",
    "import pygame"
   ]
  },
  {
   "cell_type": "markdown",
   "metadata": {
    "id": "pdAg_MHXc47E"
   },
   "source": [
    "# Clases"
   ]
  },
  {
   "cell_type": "markdown",
   "metadata": {
    "id": "5M2lrqQUVOkL"
   },
   "source": [
    "## Nodos [N]"
   ]
  },
  {
   "cell_type": "code",
   "execution_count": 3,
   "metadata": {
    "id": "gvL-gqtDUbBI"
   },
   "outputs": [],
   "source": [
    "class Node:\n",
    "  # propiedades de los nodos [N]\n",
    "  def __init__(self, tag, x = 0, y = 0, deg = 0):\n",
    "    self.tag = tag    # etiqueta del nodo\n",
    "    self.x = x        # índice x\n",
    "    self.y = y        # índice y\n",
    "    self.deg = deg    # grado del nodo\n",
    "\n",
    "  # funciones\n",
    "  def node_tag(self):\n",
    "    return self.tag\n",
    "  def node_deg(self):\n",
    "    return self.deg\n",
    "  def node_add_deg(self):\n",
    "    self.deg = self.deg + 1 "
   ]
  },
  {
   "cell_type": "markdown",
   "metadata": {
    "id": "m8NIeVqQWfvy"
   },
   "source": [
    "## Aristas [E = (n1, n2)]"
   ]
  },
  {
   "cell_type": "code",
   "execution_count": 4,
   "metadata": {
    "id": "WseilxyuVR2e"
   },
   "outputs": [],
   "source": [
    "class Edge:\n",
    "  # propiedades de las aristas [E = (n1, n2)]\n",
    "  def __init__(self, start_node, end_node, weight = 0):\n",
    "    self.start = start_node   # n1\n",
    "    self.end = end_node       # n2\n",
    "    self.weight = weight      # peso de la arista\n",
    "  \n",
    "  # funciones\n",
    "  def edge_n1(self):\n",
    "    return self.start\n",
    "  def edge_n2(self):\n",
    "    return self.end\n",
    "  def edge_nodes(self):\n",
    "    return [self.start, self.end]"
   ]
  },
  {
   "cell_type": "markdown",
   "metadata": {
    "id": "py8A_AkGYFb0"
   },
   "source": [
    "## Grafos [G(N,E)]"
   ]
  },
  {
   "cell_type": "code",
   "execution_count": 5,
   "metadata": {
    "id": "c5dOBesRYPjp"
   },
   "outputs": [],
   "source": [
    "class Graph:\n",
    "  # propiedades de los grafos [G(N,E)]\n",
    "  def __init__(self, name, graph_type = 'graph', path = False):\n",
    "    self.name = name          # nombre del grafo\n",
    "    self.gtype = graph_type   # tipo del grafo (dirigido o no)\n",
    "    self.path = path          # camino\n",
    "\n",
    "    self.nodes = []           # lista de nodos en G\n",
    "    self.edges = []           # lista de aristas de G\n",
    "    self.node_lst = []        # lista de nodos en camino\n",
    "    self.node_weight = []     # lista de pesos de nodos en camino\n",
    "    self.edge_lst = []        # lista de aristas  en camino\n",
    "\n",
    "  # funciones\n",
    "  def add_nodes(self, new_nodes):\n",
    "    self.nodes.extend(new_nodes)\n",
    "  def get_nodes(self):\n",
    "    return self.nodes\n",
    "  def add_edges(self, new_edges):\n",
    "    self.edges.extend(new_edges)\n",
    "  def get_edges(self):\n",
    "    return self.edges\n",
    "\n",
    "  ##### función para exportar el grafo #####\n",
    "\n",
    "  # formato GraphViz (.gv)\n",
    "  def save_graph(self, graph_name, rand_weight = False):\n",
    "    \n",
    "    # generando cadena de texto a guardar\n",
    "    inside_file = self.gtype + \" \" + self.name + \" {\\n\"  # nombre y tipo del grafo\n",
    "\n",
    "    ## agregando nodos ##\n",
    "    # en camino  \n",
    "    if self.path:\n",
    "      for i in range(len(self.nodes)):\n",
    "        if i in self.node_lst:\n",
    "          pos_node = self.node_lst.index(i)\n",
    "          # etiquetado con peso\n",
    "          inside_file += str(self.nodes[i].tag)+\" [label=\"+str(self.nodes[i].tag)+\"(\"+str(self.node_weight[pos_node])+\")];\\n\"\n",
    "        # no conectado  \n",
    "        else: \n",
    "          inside_file += str(self.nodes[i].tag)+\";\\n\"\n",
    "    # sin camino\n",
    "    else:\n",
    "      for i in range(len(self.nodes)):\n",
    "        inside_file += str(self.nodes[i].tag)+\";\\n\"\n",
    "    \n",
    "    \n",
    "    # unión arista\n",
    "    if self.gtype == 'graph':\n",
    "      edge_style = \"--\"\n",
    "    elif self.gtype == 'digraph':\n",
    "      edge_style = '->'\n",
    "\n",
    "\n",
    "    ## agregando aristas ##\n",
    "    # con peso aleatorio\n",
    "    if rand_weight:\n",
    "      for i in range(len(self.edges)):\n",
    "        inside_file += str(self.edges[i].start) + edge_style + str(self.edges[i].end) + \"[w = \" +str(round(random.random()*3)+1) + \"\\\"]\"+\";\\n\"\n",
    "    # con peso en camino\n",
    "    elif self.path:\n",
    "      for i in range(len(self.edges)):\n",
    "        inside_file += str(self.edges[i].start) + edge_style + str(self.edges[i].end) + \"[w = \" +str(self.edges[i].weight) + \"\\\"]\"+\";\\n\"\n",
    "    else: \n",
    "      for j in range(len(self.edges)):\n",
    "        inside_file += str(self.edges[j].start) + edge_style + str(self.edges[j].end) + \";\\n\"\n",
    "    # con camino\n",
    "    if self.path:\n",
    "      for i in range(len(self.edge_lst)):\n",
    "        inside_file += str(self.edge_lst[i][0]) + edge_style + str(self.edge_lst[i][1]) +\" [color = green,] ;\\n\"\n",
    " \n",
    "    # final del archivo\n",
    "    inside_file += \"}\"\n",
    "\n",
    "    # escribiendo archivo\n",
    "    with open(graph_name + \".gv\", 'w') as outfile:\n",
    "      outfile.write(inside_file)"
   ]
  },
  {
   "cell_type": "markdown",
   "metadata": {
    "id": "tMh-Kp4Yc9ri"
   },
   "source": [
    "# Modelos de generación de grafos"
   ]
  },
  {
   "cell_type": "markdown",
   "metadata": {
    "id": "DnHSwCXZdGkB"
   },
   "source": [
    "## Modelo de malla"
   ]
  },
  {
   "cell_type": "code",
   "execution_count": 6,
   "metadata": {
    "id": "CYPbCNM2IGZq"
   },
   "outputs": [],
   "source": [
    "def Grid(n, m, name, graph_type = 'graph'):\n",
    "  # listas iniciales\n",
    "  nodes = []\n",
    "  edges = []\n",
    "    \n",
    "  # generando nodos\n",
    "  for j in range(m):\n",
    "    for i in range(n): \n",
    "      nodes.append(Node(i, i, j))\n",
    "   \n",
    "  # generando aristas # orilla\n",
    "  for j in range(m-1):\n",
    "    edges.append(Edge(j*n + n -1, j*n + 2*n -1))\n",
    "    for i in range(n-1):\n",
    "      edges.append(Edge(j*n + i, j*n + i + 1)) \n",
    "      edges.append(Edge(j*n + i, j*n + i + n))\n",
    "  for i in range(n-1): # orilla\n",
    "    edges.append(Edge(n*(m-1) + i, n*(m-1) + i + 1))\n",
    "\n",
    "  # generando grafo\n",
    "  new_graph = Graph(name)\n",
    "  new_graph.add_nodes(nodes)\n",
    "  new_graph.add_edges(edges)\n",
    "\n",
    "  return new_graph"
   ]
  },
  {
   "cell_type": "code",
   "execution_count": 7,
   "metadata": {
    "id": "mL--uaQBQ6q_"
   },
   "outputs": [],
   "source": [
    "#G.append(Grid(3, 10, \"Malla30\"))\n",
    "#G.append(Grid(10, 10, \"Malla100\"))\n",
    "#G.append(Grid(25, 20, \"Malla500\"))"
   ]
  },
  {
   "cell_type": "markdown",
   "metadata": {
    "id": "I8gBtzRVVHtD"
   },
   "source": [
    "## Modelo de Erdös y Rényi"
   ]
  },
  {
   "cell_type": "code",
   "execution_count": 8,
   "metadata": {
    "id": "sFRcJt2rReRs"
   },
   "outputs": [],
   "source": [
    "def Erdos_Renyi(n, m, name, graph_type = 'graph', auto=False):\n",
    "  # iniciales\n",
    "  matrix = np.zeros((n, n), dtype=int)    \n",
    "  nodes = []\n",
    "  edges = []\n",
    "\n",
    "  # generando n nodos\n",
    "  for i in range(n):\n",
    "    nodes.append(Node(i))\n",
    "\n",
    "  # generando m aristas\n",
    "  for i in range(m):  \n",
    "    while True:\n",
    "      # aristas entre nodos aleatorios    \n",
    "      start_node = random.randint(0, n - 1)\n",
    "      end_node = random.randint(0, n - 1)\n",
    "      if ( (start_node != end_node) or auto ) and matrix[start_node][end_node] == 0:\n",
    "       break\n",
    "    matrix[start_node][end_node] = 1\n",
    "    matrix[end_node][start_node] = 1\n",
    "\n",
    "    edges.append(Edge(start_node, end_node))\n",
    "    edges.append(Edge(end_node, start_node))\n",
    "\n",
    "  # generando grafo            \n",
    "  new_graph = Graph(name)\n",
    "  new_graph.add_nodes(nodes)\n",
    "  new_graph.add_edges(edges)\n",
    "  \n",
    "  return new_graph"
   ]
  },
  {
   "cell_type": "code",
   "execution_count": 9,
   "metadata": {
    "id": "FlnOw5vIaKPk"
   },
   "outputs": [],
   "source": [
    "#G.append(Erdos_Renyi(30, 50, \"ErdRen30_50\"))\n",
    "#G.append(Erdos_Renyi(100, 300, \"ErdRen100_300\"))\n",
    "#G.append(Erdos_Renyi(500, 1000, \"ErdRen500_1000\"))"
   ]
  },
  {
   "cell_type": "markdown",
   "metadata": {
    "id": "f3HuhUdvce9H"
   },
   "source": [
    "## Modelo de Gilbert"
   ]
  },
  {
   "cell_type": "code",
   "execution_count": 10,
   "metadata": {
    "id": "LJYXKxbnbBvC"
   },
   "outputs": [],
   "source": [
    "def Gilbert(n, p, name, gtype = 'graph', auto = False):\n",
    "  # listas iniciales\n",
    "  nodes = []\n",
    "  edges = [] \n",
    "   \n",
    "  # generando vértices\n",
    "  for i in range(n):\n",
    "    nodes.append(Node(i))\n",
    "\n",
    "  # generando aristas\n",
    "  lim = n + auto - 1\n",
    "  for i in range(n):\n",
    "    lim=i+auto\n",
    "    for j in range(lim):\n",
    "      if random.random() <= p:\n",
    "        if auto or (not i == j):\n",
    "          edges.append(Edge(i, j))\n",
    "\n",
    "  # generando grafo\n",
    "  new_graph = Graph(name)\n",
    "  new_graph.add_nodes(nodes)\n",
    "  new_graph.add_edges(edges)\n",
    "\n",
    "  return new_graph"
   ]
  },
  {
   "cell_type": "code",
   "execution_count": 11,
   "metadata": {
    "id": "4eCt8JNVeQMW"
   },
   "outputs": [],
   "source": [
    "#G.append(Gilbert(30, .3, \"Gil30_.3\"))\n",
    "#G.append(Gilbert(100, .2, \"Gil100_.2\"))\n",
    "#G.append(Gilbert(500, .1, \"Gil500_.1\"))"
   ]
  },
  {
   "cell_type": "markdown",
   "metadata": {
    "id": "PyjbAseY9aTK"
   },
   "source": [
    "## Modelo geográfico simple"
   ]
  },
  {
   "cell_type": "code",
   "execution_count": 12,
   "metadata": {
    "id": "Z0_IamXtekjq"
   },
   "outputs": [],
   "source": [
    "# distancia euclideana (entre nodos)\n",
    "def euclid_dist(x1, y1, x2, y2):\n",
    "  dist = math.sqrt((x2 - x1) ** 2 + (y2 - y1) ** 2)\n",
    "  return dist\n",
    "\n",
    "def Simple_Geo(n, r, name, graph_type = 'graph', auto = False):   \n",
    "  # listas iniciales\n",
    "  nodes = []\n",
    "  edges = [] \n",
    "\n",
    "  x_coords=[]\n",
    "  y_coords=[]\n",
    "  \n",
    "  # generando nodos\n",
    "  for i in range (n):\n",
    "    x = random.random()\n",
    "    x_coords.append(x)\n",
    "    y = random.random()\n",
    "    y_coords.append(y)\n",
    "    nodes.append(Node(i, x = x, y = y))\n",
    "  \n",
    "  # generando aristas\n",
    "  for i in range(n):\n",
    "    for j in range(n - i - 1 + auto):\n",
    "      distance = euclid_dist(x_coords[i], y_coords[i], x_coords[n-j-1], y_coords[n-j-1])\n",
    "      if distance < r:\n",
    "        edges.append(Edge(i, n-j-1, weight = distance))\n",
    "\n",
    "  # generando grafo\n",
    "  new_graph = Graph(name)\n",
    "  new_graph.add_nodes(nodes)\n",
    "  new_graph.add_edges(edges)\n",
    "\n",
    "  return new_graph"
   ]
  },
  {
   "cell_type": "code",
   "execution_count": 13,
   "metadata": {
    "id": "Y9Y2XAjA6Ngp"
   },
   "outputs": [],
   "source": [
    "#G.append(Simple_Geo(30, .2, \"Geo30_.2\"))\n",
    "#G.append(Simple_Geo(100, .1, \"Geo100_.1\"))\n",
    "#G.append(Simple_Geo(500, .05, \"Geo500_.05\"))"
   ]
  },
  {
   "cell_type": "markdown",
   "metadata": {
    "id": "9Yp6kncRTui6"
   },
   "source": [
    "## Modelo Barabasi-Albert"
   ]
  },
  {
   "cell_type": "code",
   "execution_count": 14,
   "metadata": {
    "id": "ypyc_uz7Tx9i"
   },
   "outputs": [],
   "source": [
    "def Barabasi_Albert(n, d, name, graph_type = 'graph', auto = False):    \n",
    "  # listas iniciales\n",
    "  nodes = []\n",
    "  edges = [] \n",
    "  node_list = []\n",
    "\n",
    "  # generando nodos\n",
    "  for i in range(n): \n",
    "    nodes.append(Node(i))\n",
    "    node_list.append(0)\n",
    "    # comparando con nodos anteriores  \n",
    "    for j in range (0,i): \n",
    "      p = 1 - node_list[j] / d\n",
    "      # generando aristas\n",
    "      if random.random() < p:\n",
    "        edges.append(Edge(i, j))\n",
    "        node_list[i] += 1\n",
    "        node_list[j] += 1\n",
    "        nodes[i].node_add_deg()\n",
    "        nodes[j].node_add_deg()\n",
    "        \n",
    "  # generando grafo\n",
    "  new_graph = Graph(name)\n",
    "  new_graph.add_nodes(nodes)\n",
    "  new_graph.add_edges(edges)\n",
    "\n",
    "  return new_graph"
   ]
  },
  {
   "cell_type": "markdown",
   "metadata": {
    "id": "KXOd3P4U6wtO"
   },
   "source": [
    "## Modelo Dorogovtsev-Mendes"
   ]
  },
  {
   "cell_type": "code",
   "execution_count": 15,
   "metadata": {
    "id": "xbaY9oNc63D6"
   },
   "outputs": [],
   "source": [
    "def Dorogovtsev_Mendes(n, name, graph_type = 'graph', limit = 0):\n",
    "  # listas iniciales\n",
    "  nodes = []\n",
    "  edges = [] \n",
    "    \n",
    "  #Primeros tres nodos  \n",
    "  for i in range(3):\n",
    "    nodes.append(Node(i))\n",
    "  edges.append(Edge(0,1))\n",
    "  edges.append(Edge(1,2))\n",
    "  edges.append(Edge(2,0))\n",
    "\n",
    "  if limit:\n",
    "    nodes[0].node_add_deg()\n",
    "    nodes[1].node_add_deg()\n",
    "    nodes[2].node_add_deg()\n",
    "    nodes[0].node_add_deg()\n",
    "    nodes[1].node_add_deg()\n",
    "    nodes[2].node_add_deg()\n",
    "\n",
    "  for i in range(n - 3):\n",
    "    nodes.append(Node(i + 3))\n",
    "    if limit:\n",
    "      flag = True\n",
    "      while flag:\n",
    "        pick = random.randint(0, len(edges)-1)\n",
    "        if nodes[edges[pick].edge_n1()].node_deg() < limit and nodes[edges[pick].edge_n2()].node_deg() < limit:\n",
    "          flag = False\n",
    "    else:\n",
    "      pick = random.randint(0,len(edges)-1)\n",
    "    \n",
    "    edges.append(Edge(i+3,edges[pick].edge_n1()))\n",
    "    edges.append(Edge(i+3,edges[pick].edge_n2()))\n",
    "    if limit:\n",
    "      nodes[-1].node_add_deg()\n",
    "      nodes[-1].node_add_deg()\n",
    "      nodes[edges[pick].edge_n1()].node_add_deg()\n",
    "      nodes[edges[pick].edge_n2()].node_add_deg()\n",
    "\n",
    "  # generando grafo\n",
    "  new_graph = Graph(name)\n",
    "  new_graph.add_nodes(nodes)\n",
    "  new_graph.add_edges(edges)\n",
    "\n",
    "  return new_graph"
   ]
  },
  {
   "cell_type": "code",
   "execution_count": 16,
   "metadata": {
    "id": "dWqlO0YSKw9T"
   },
   "outputs": [],
   "source": [
    "#G.append(Dor_Men(30, \"DorMen30\"))\n",
    "#G.append(Dor_Men(100, \"DorMen100\"))\n",
    "#G.append(Dor_Men(500, \"DorMen500\"))"
   ]
  },
  {
   "cell_type": "markdown",
   "metadata": {
    "id": "i5McbXvQE1D5"
   },
   "source": [
    "# Disposición de grafos P1"
   ]
  },
  {
   "cell_type": "code",
   "execution_count": 17,
   "metadata": {
    "id": "lUKwzyn15dRW"
   },
   "outputs": [],
   "source": [
    "def random_start(graph, width, height):\n",
    "    g = copy.deepcopy(graph)\n",
    "    for i in range(len(g.nodes)):\n",
    "        g.nodes[i].x = np.random.randint(0, width)\n",
    "        g.nodes[i].y =np.random.randint(0, height)\n",
    "    return g"
   ]
  },
  {
   "cell_type": "code",
   "execution_count": 18,
   "metadata": {
    "id": "OqREkK-p5c2S"
   },
   "outputs": [],
   "source": [
    "def r_theta(x1, y1, x2, y2):\n",
    "  r = math.sqrt((x2 - x1) ** 2 + (y2 - y1) ** 2)\n",
    "  theta = math.atan2(y2-y1, x2-x1)    \n",
    "  return r, theta"
   ]
  },
  {
   "cell_type": "code",
   "execution_count": 19,
   "metadata": {
    "id": "KcNgj-aoBtc1"
   },
   "outputs": [],
   "source": [
    "def vector_sum (f1, a1, f2, a2):\n",
    "  # componentes\n",
    "  x = (f1 * math.cos(a1)) + (f2 * math.cos(a2))\n",
    "  y = (f1 * math.sin(a1)) + (f2 * math.sin(a2))\n",
    "  r, theta = r_theta(x, y, 0, 0)\n",
    "  return r, theta"
   ]
  },
  {
   "cell_type": "code",
   "execution_count": 20,
   "metadata": {
    "id": "2ooInmWm_q2o"
   },
   "outputs": [],
   "source": [
    "def spring(graph, c1, c2, c3, c4, width, height):\n",
    "  g = copy.deepcopy(graph)\n",
    "  forces = [(0,0)] * len(g.nodes)\n",
    "    \n",
    "  # F de atracción\n",
    "  for i in range(len(g.edges)):\n",
    "    n1 = g.edges[i].start\n",
    "    n2 = g.edges[i].end\n",
    "\n",
    "    coord_1 = (g.nodes[n1].x, g.nodes[n1].y)\n",
    "    coord_2 = (g.nodes[n2].x, g.nodes[n2].y)\n",
    "\n",
    "    size, angle = r_theta(coord_1[0], coord_1[1], coord_2[0], coord_2[1])\n",
    "    if size > 0:\n",
    "      F_a = c1 * np.log(size / c2)\n",
    "    else:\n",
    "      F_a = 0\n",
    "    \n",
    "    force_a, angle_a = vector_sum(F_a, angle + math.pi, forces[n1][0], forces[n1][1])\n",
    "    forces[n1] = (force_a, angle_a)\n",
    "    force_a, angle_a = vector_sum(F_a, angle + math.pi, forces[n2][0], forces[n2][1])\n",
    "    forces[n2] = (force_a, angle_a)\n",
    "  \n",
    "  # F de repulsión\n",
    "  for i in range(len(g.nodes)):\n",
    "    for j in range(len(g.nodes)):\n",
    "      if i != j:\n",
    "        coord_1 = (g.nodes[n1].x, g.nodes[n1].y)\n",
    "        coord_2 = (g.nodes[n2].x, g.nodes[n2].y)\n",
    "        size, angle = r_theta(coord_1[0], coord_1[1], coord_2[0], coord_2[1])\n",
    "        #fuerza\n",
    "        if size > 0:\n",
    "          F_r = c3 / math.sqrt(size)\n",
    "        else:\n",
    "          F_r = c3 * 5\n",
    "       \n",
    "        force_r, angle_r = vector_sum(F_r, angle, forces[i][0], forces[i][1])\n",
    "        forces[i] = (force_r, angle_r)\n",
    "  \n",
    "  # Gran atractor\n",
    "  atractor_x = width / 2\n",
    "  atractor_y = height / 2\n",
    "\n",
    "  for i in range(len(g.nodes)):\n",
    "    coord_1 = (g.nodes[n1].x, g.nodes[n1].y)\n",
    "    size, angle = r_theta(coord_1[0], coord_1[1], atractor_x, atractor_y)\n",
    "    if size > 0:\n",
    "      FA = size * 0\n",
    "    else:\n",
    "      FA = 0\n",
    "    force_atr, angle_atr = vector_sum(FA, angle + math.pi, forces[i][0], forces[i][1])\n",
    "    forces[i] = (force_atr, angle_atr)\n",
    "  \n",
    "  # actualizando posiciones\n",
    "  for i in range(len(g.nodes)):\n",
    "    x = c4 * forces[i][0] * math.cos(forces[i][1])\n",
    "    y = c4 * forces[i][0] * math.sin(forces[i][1])\n",
    "   \n",
    "    g.nodes[i].x = g.nodes[i].x + x\n",
    "    g.nodes[i].y = g.nodes[i].y + y\n",
    "    # ajuste dimensional\n",
    "    if g.nodes[i].x >= width:\n",
    "      g.nodes[i].x = width-1\n",
    "    elif g.nodes[i].x < 1:\n",
    "      g.nodes[i].x = 1\n",
    "\n",
    "    if g.nodes[i].y >= height:\n",
    "      g.nodes[i].y = height - 1\n",
    "    elif g.nodes[i].y < 1:\n",
    "      g.nodes[i].y = 1 \n",
    "\n",
    "  return g"
   ]
  },
  {
   "cell_type": "code",
   "execution_count": 23,
   "metadata": {
    "id": "z5HDuFLZ2o55"
   },
   "outputs": [],
   "source": [
    "class App:\n",
    "  # formato (pantalla, colores, texto)\n",
    "  def __init__(self, graph):\n",
    "    self._running = True\n",
    "    self._display_surf = None\n",
    "    self.width = 1300\n",
    "    self.height = 800\n",
    "    self.size = self.width, self.height\n",
    "    self.graph = graph\n",
    "  \n",
    "  def on_init(self):\n",
    "    pygame.init()\n",
    "    self._display_surf = pygame.display.set_mode(self.size) # pygame.HWSURFACE | pygame.DOUBLEBUF)\n",
    "    self._running = True \n",
    "\n",
    "    # colores\n",
    "    background_color = (224, 224, 224)\n",
    "    text_color = (32, 32, 32)\n",
    "    text_width = int(self.width * .8 + 50)\n",
    "\n",
    "    self.text_color = text_color\n",
    "    self.text_width = text_width\n",
    "    self.background = background_color\n",
    "    self._display_surf.fill(background_color)\n",
    "\n",
    "    # Texto\n",
    "    self.title_font = pygame.font.Font('C:\\\\Windows\\\\Fonts\\\\Bahnschrift.ttf', 15)\n",
    "    self.normal_font = pygame.font.Font('C:\\\\Windows\\\\Fonts\\\\Bahnschrift.ttf', 11)\n",
    "    self.tiny_font = pygame.font.Font('C:\\\\Windows\\\\Fonts\\\\Bahnschrift.ttf', 8)\n",
    "\n",
    "    text = self.title_font.render('Datos del grafo', True, text_color)\n",
    "    self._display_surf.blit(text, (text_width, 40))\n",
    "    text = self.normal_font.render('Nodos', True, text_color)\n",
    "    self._display_surf.blit(text, (text_width, 30))\n",
    "    text = self.normal_font.render('Aristas', True, text_color)\n",
    "    self._display_surf.blit(text, (text_width, 30))\n",
    "####\n",
    "    tex = str(len(self.graph.nodes))\n",
    "    text = self.normal_font.render(tex, True, text_color, background_color)\n",
    "    self._display_surf.blit(text, (text_width + 180, 75))\n",
    "\n",
    "    tex = str(len(self.graph.edges))\n",
    "    text = self.normal_font.render(tex, True, text_color, background_color)\n",
    "    self._display_surf.blit(text, (text_width + 180, 75))\n",
    "    \n",
    "    text = self.normal_font.render('C1', True, text_color)\n",
    "    self._display_surf.blit(text, (text_width, 90))\n",
    "    text = self.normal_font.render('C2', True, text_color)\n",
    "    self._display_surf.blit(text, (text_width, 90))\n",
    "    text = self.normal_font.render('C3', True, text_color)\n",
    "    self._display_surf.blit(text, (text_width, 90))\n",
    "    text = self.normal_font.render('C4', True, text_color)\n",
    "    self._display_surf.blit(text, (text_width, 90))\n",
    "\n",
    "    self.c1 = 1\n",
    "    self.c2 = 1\n",
    "    self.c3 = 1\n",
    "    self.c4 = 1\n",
    "    \n",
    "    self.inactive_color = pygame.Color('azure4')\n",
    "    self.active_color = pygame.Color('coral4')\n",
    "    self.c1_color = self.inactive_color\n",
    "    self.c2_color = self.inactive_color\n",
    "    self.c3_color = self.inactive_color\n",
    "    self.c4_color = self.inactive_color\n",
    "    self.c1_active = False\n",
    "    self.c2_active = False\n",
    "    self.c3_active = False\n",
    "    self.c4_active = False\n",
    "\n",
    "    self.c1_in = pygame.Rect(text_width + 30, 120, 120, 20)\n",
    "    self.c1_text = '1'\n",
    "    pygame.draw.rect(self._display_surf, self.c1_color, self.c1_in, width = 2)\n",
    "    \n",
    "    self.c2_in = pygame.Rect(text_width + 30, 120, 120, 20)\n",
    "    self.c2_text = '1'\n",
    "    pygame.draw.rect(self._display_surf, self.c2_color, self.c2_in, width = 2)\n",
    "    \n",
    "    self.c3_in = pygame.Rect(text_width + 30, 120, 120, 20)\n",
    "    self.c3_text = '1'\n",
    "    pygame.draw.rect(self._display_surf, self.c3_color, self.c3_in, width = 2)\n",
    "    \n",
    "    self.c4_in = pygame.Rect(text_width + 30, 120, 120, 20)\n",
    "    self.c4_text = '1'\n",
    "    pygame.draw.rect(self._display_surf, self.c4_color, self.c4_in, width = 2)\n",
    "    \n",
    "\n",
    "    # nodos inicialmente en aleatorio\n",
    "    self.graph = random_start(self.graph, self.width * .8, self.height * .8)\n",
    "  \n",
    "  # cierra\n",
    "  def on_event(self, event):\n",
    "    if event.type == pygame.QUIT:\n",
    "      self._running = False\n",
    "    # activa c's\n",
    "    if event.type== pygame.MOUSEBUTTONDOWN:\n",
    "      if self.c1_in.collidepoint(event.place):\n",
    "        self.c1_active = not self.c1_active\n",
    "      else:\n",
    "        self.c1_active = False\n",
    "      self.c1_color = self.active_color if self.c1_active else self.inactive_color\n",
    "  \n",
    "      if self.c3_in.collidepoint(event.place):\n",
    "        self.c3_active = not self.c3_active\n",
    "      else:\n",
    "        self.c4_active = False\n",
    "      self.c4_color = self.active_color if self.c4_active else self.inactive_color\n",
    "\n",
    "      if self.c2_in.collidepoint(event.place):\n",
    "        self.c2_active = not self.c2_active\n",
    "      else:\n",
    "        self.c1_active = False\n",
    "      self.c1_color = self.active_color if self.c1_active else self.inactive_color\n",
    "\n",
    "      if self.c1_in.collidepoint(event.place):\n",
    "        self.c1_active = not self.c1_active\n",
    "      else:\n",
    "        self.c1_active = False\n",
    "      self.c1_color = self.active_color if self.c1_active else self.inactive_color\n",
    "  \n",
    "  ##### loop #####\n",
    "  def loop(self):\n",
    "    pygame.time.delay(2)\n",
    "    surface = pygame.Surface((30, 35))\n",
    "    surface = pygame.transform.scale(surface, (int(self.width * .8), int(self.height * .8)))\n",
    "\n",
    "    self.graph = spring(self.graph, self.c1, self.c2, self.c3, self.c4, self.width * .8, self.height * .8)\n",
    "\n",
    "    # dibujando nodos\n",
    "    for i in range(len(self.graph.nodes)):\n",
    "      pygame.draw.circle(surface, (178, 255, 102), (self.graph.nodes[i].x, self.graph.nodes[i].y), 3)\n",
    "\n",
    "    # dibujando aristas\n",
    "    for j in range(len(self.graph.edges)):\n",
    "      n1 = self.graph.edges[j].start\n",
    "      n2 = self.graph.edges[j].end\n",
    "      coord_1 = (self.graph.nodes[n1].x, self.graph.nodes[n1].y)\n",
    "      coord_2 = (self.graph.nodes[n2].x, self.graph.nodes[n2].y)\n",
    "      pygame.draw.line(surface, (255, 255, 153), coord_1, coord_2)\n",
    "\n",
    "    self._display_surf.blit(surface, (60, 60))\n",
    "\n",
    "    # limpieza\n",
    "    #text = self.normal_font,render('       ', True, self.text_color, pygame.Color('slateblue4'))\n",
    "    #self._display_surf.blit(texto, self.text_width + 40, 123)\n",
    "\n",
    "    text = self.normal_font.render(self.c1_text, True, self.text_color, pygame.Color('slateblue4'))\n",
    "    self._display_surf.blit(text, (self.text_width + 40, 150))\n",
    "    pygame.draw.rect(self._display_surf, self.c1_color, self.c1_in, width = 2)\n",
    "\n",
    "    text = self.normal_font.render(self.c2_text, True, self.text_color, pygame.Color('slateblue4'))\n",
    "    self._display_surf.blit(text, (self.text_width + 40, 123))\n",
    "    pygame.draw.rect(self._display_surf, self.c2_color, self.c2_in, width = 2)\n",
    "\n",
    "    text = self.normal_font.render(self.c3_text, True, self.text_color, pygame.Color('slateblue4'))\n",
    "    self._display_surf.blit(text, (self.text_width + 40, 123))\n",
    "    pygame.draw.rect(self._display_surf, self.c3_color, self.c3_in, width = 2)\n",
    "\n",
    "    text = self.normal_font.render(self.c4_text, True, self.text_color, pygame.Color('slateblue4'))\n",
    "    self._display_surf.blit(text, (self.text_width + 40, 123))\n",
    "    pygame.draw.rect(self._display_surf, self.c4_color, self.c4_in, width = 2)\n",
    "\n",
    "    pass\n",
    "  \n",
    "  def on_render(self):\n",
    "    pygame.display.flip()\n",
    "    pass\n",
    "  def on_cleanup(self):\n",
    "    pygame.quit()\n",
    "  def on_execute(self):\n",
    "    if self.on_init() == False:\n",
    "      self._running = False\n",
    "    while( self._running):\n",
    "      for event in pygame.event.get():\n",
    "        self.on_event(event)\n",
    "      self.loop()\n",
    "      self.on_render()\n",
    "    self.on_cleanup()"
   ]
  },
  {
   "cell_type": "code",
   "execution_count": 24,
   "metadata": {
    "colab": {
     "base_uri": "https://localhost:8080/",
     "height": 363
    },
    "id": "HfYe6hmOS6y7",
    "outputId": "8f1d1fd2-58bd-4497-fa15-97ffcf7d71b7"
   },
   "outputs": [],
   "source": [
    "G = Grid(10, 10, \"Malla100\")\n",
    "G = Grid(25, 20, \"Malla500\")\n",
    "\n",
    "G = Erdos_Renyi(100, 300, \"ErdRen100\")\n",
    "G = Erdos_Renyi(500, 1000, \"ErdRen500\")\n",
    "\n",
    "G = Gilbert(100, .1, \"Gil100\")\n",
    "G = Gilbert(500, .03, \"Gil500\")\n",
    "\n",
    "G = Simple_Geo(100, 5, \"Geo100\")\n",
    "G = Simple_Geo(500, 3, \"Geo100\")\n",
    "\n",
    "G = Barabasi_Albert(100, 5, \"BarAlb100\")\n",
    "G = Barabasi_Albert(500, 10, \"BarAlb500\")\n",
    "\n",
    "G = Dorogovtsev_Mendes(100,\"DorMen100\")\n",
    "G = Dorogovtsev_Mendes(500,\"DorMen500\")\n",
    "\n",
    "App(G)\n",
    "App(G).on_execute()"
   ]
  },
  {
   "cell_type": "code",
   "execution_count": null,
   "metadata": {
    "id": "y3l0zA3-T5J-"
   },
   "outputs": [],
   "source": []
  },
  {
   "cell_type": "code",
   "execution_count": null,
   "metadata": {},
   "outputs": [],
   "source": []
  }
 ],
 "metadata": {
  "colab": {
   "collapsed_sections": [
    "tMh-Kp4Yc9ri",
    "DnHSwCXZdGkB",
    "I8gBtzRVVHtD",
    "f3HuhUdvce9H",
    "PyjbAseY9aTK",
    "9Yp6kncRTui6",
    "KXOd3P4U6wtO"
   ],
   "name": "Proyecto_5.ipynb",
   "provenance": []
  },
  "kernelspec": {
   "display_name": "Python 3 (ipykernel)",
   "language": "python",
   "name": "python3"
  },
  "language_info": {
   "codemirror_mode": {
    "name": "ipython",
    "version": 3
   },
   "file_extension": ".py",
   "mimetype": "text/x-python",
   "name": "python",
   "nbconvert_exporter": "python",
   "pygments_lexer": "ipython3",
   "version": "3.9.7"
  }
 },
 "nbformat": 4,
 "nbformat_minor": 1
}

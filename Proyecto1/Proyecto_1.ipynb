{
  "nbformat": 4,
  "nbformat_minor": 0,
  "metadata": {
    "colab": {
      "name": "Proyecto_1.ipynb",
      "provenance": [],
      "collapsed_sections": [
        "8zV6JmwJCQbr",
        "v4PusKp7CqVB",
        "NmKq_OeUCTYY",
        "f1rVd-eECXfL",
        "pGASDjSsCbGw",
        "_eE0nRVcCl7T",
        "dzj-8tvjCtku",
        "QT9r6ZXGZUmZ",
        "v67vBhvJf7Zj"
      ]
    },
    "kernelspec": {
      "name": "python3",
      "display_name": "Python 3"
    },
    "language_info": {
      "name": "python"
    }
  },
  "cells": [
    {
      "cell_type": "code",
      "source": [
        "import random\n",
        "import numpy as np\n",
        "import math as mt\n",
        "import matplotlib.pyplot as plt\n",
        "import copy\n",
        "import time as tm"
      ],
      "metadata": {
        "id": "dYIy8p4rA5d-"
      },
      "execution_count": 1,
      "outputs": []
    },
    {
      "cell_type": "markdown",
      "source": [
        "# Biblioteca de generación y manejo de grafos\n",
        "\n",
        "Biblioteca orientada a objetos, para describir y utilizar grafos. "
      ],
      "metadata": {
        "id": "17pB9ObnB9yc"
      }
    },
    {
      "cell_type": "code",
      "source": [
        "generated_graphs = []"
      ],
      "metadata": {
        "id": "eDsvd9WUBHgt"
      },
      "execution_count": 2,
      "outputs": []
    },
    {
      "cell_type": "markdown",
      "source": [
        "## Clases"
      ],
      "metadata": {
        "id": "Tx8FbsdMCDn7"
      }
    },
    {
      "cell_type": "markdown",
      "source": [
        "### Nodo"
      ],
      "metadata": {
        "id": "66a4m1swCIvw"
      }
    },
    {
      "cell_type": "code",
      "source": [
        "class Node:\n",
        "    def __init__(self, name , x = 0, y = 0, deg = 0):\n",
        "        self.Name = name\n",
        "        self.x_coord = x\n",
        "        self.y_coord = y\n",
        "        self.Degree = deg\n",
        "\n",
        "    def node_name(self):\n",
        "        return self.Name\n",
        "\n",
        "    def node_deg(self):\n",
        "        return self.Degree\n",
        "\n",
        "    def add_degree(self):\n",
        "        self.Degree = self.Degree + 1\n"
      ],
      "metadata": {
        "id": "35qa5AIELuzd"
      },
      "execution_count": 3,
      "outputs": []
    },
    {
      "cell_type": "markdown",
      "source": [
        "### Arista"
      ],
      "metadata": {
        "id": "r3TwW6UCCMUr"
      }
    },
    {
      "cell_type": "code",
      "source": [
        "class Edge:\n",
        "    def __init__(self, ini, fin, w = 0):\n",
        "        self.Initial = ini\n",
        "        self.Final = fin\n",
        "        self.Weight = w\n",
        "\n",
        "    def edge_initial(self):\n",
        "        return self.Initial.node_name()\n",
        "    def edge_final(self):\n",
        "        return self.Final.node_name()\n",
        "    def edge_nodes(self):\n",
        "        return [self.Initial, self.Final]"
      ],
      "metadata": {
        "id": "ATtoRnVDMQ-k"
      },
      "execution_count": 4,
      "outputs": []
    },
    {
      "cell_type": "markdown",
      "source": [
        "### Grafo"
      ],
      "metadata": {
        "id": "mgyozMTOCF8o"
      }
    },
    {
      "cell_type": "code",
      "source": [
        "class Graph:\n",
        "    def __init__(self, name, gtype = \"graph\"):\n",
        "        self.Name = name\n",
        "        self.Nodes = []\n",
        "        self.Edges = []\n",
        "        self.Gtype = gtype\n",
        "\n",
        "    # Nodos\n",
        "    def new_nodes(self, node_list):\n",
        "        self.Nodes.extend(node_list)\n",
        "    def get_nodes(self):\n",
        "        return self.Nodes\n",
        "\n",
        "    # aristas    \n",
        "    def new_edges(self, edge_list):\n",
        "        self.Edges.extend(edge_list)\n",
        "    def get_edges(self):\n",
        "        return self.Edges\n",
        "\n",
        "# Función de exportado\n",
        "    def save_graph(self, file_name):\n",
        "        infile = self.Gtype + \" \" + self.Name + \" {\\n\"\n",
        "\n",
        "        # guarda nodos\n",
        "        for i in range(len(self.Nodes)):\n",
        "            infile += str(self.Nodes[i].Name) + \";\\n\"\n",
        "        \n",
        "        # tipo de arista\n",
        "        if self.Gtype == \"graph\":\n",
        "            edge_type = \" -- \"\n",
        "        else:\n",
        "            edge_type = \" -> \"\n",
        "        # guarda aristas\n",
        "        for j in range(len(self.Edges)):\n",
        "            infile += str(self.Edges[j].Initial) + edge_type + str(self.Edges[j].Final) + \";\\n\"\n",
        "        infile += \"}\"\n",
        "        \n",
        "        with open(file_name + '.gv', 'w') as outfile:\n",
        "            outfile.write(infile)"
      ],
      "metadata": {
        "id": "_oMAcSidJxjY"
      },
      "execution_count": 5,
      "outputs": []
    },
    {
      "cell_type": "markdown",
      "source": [
        "## Modelos"
      ],
      "metadata": {
        "id": "8zV6JmwJCQbr"
      }
    },
    {
      "cell_type": "markdown",
      "source": [
        "### Malla"
      ],
      "metadata": {
        "id": "v4PusKp7CqVB"
      }
    },
    {
      "cell_type": "code",
      "source": [
        "def Grid(n, m, name, directed = False):\n",
        "    Nodes = []\n",
        "    Edges = []\n",
        "\n",
        "    # genera nodos\n",
        "    for j in range(m):\n",
        "        for i in range(n): \n",
        "            Nodes.append(Node(i, x = i, y = j))\n",
        "\n",
        "    # genera aristas\n",
        "    for j in range(m - 1):\n",
        "        for i in range(n - 1):\n",
        "            Edges.append(Edge(i + n*j, i + n*j + 1))\n",
        "            Edges.append(Edge(i + n*j, i + n*j + n))\n",
        "    # orillas\n",
        "    for i in range(m - 1):\n",
        "        Edges.append(Edge(n - 1 + i*n, 2*n - 1 + i*n))\n",
        "    for i in range(n-1):\n",
        "        Edges.append(Edge(n*(m - 1) + i, n*(m - 1) + i + 1))\n",
        "\n",
        "    if directed:\n",
        "        new_graph = Graph(name, gtype = \"digraph\")\n",
        "    else:\n",
        "        new_graph = Graph(name)\n",
        "    new_graph.new_nodes(Nodes)\n",
        "    new_graph.new_edges(Edges)\n",
        "\n",
        "    return new_graph"
      ],
      "metadata": {
        "id": "3hAUaUG5NNEQ"
      },
      "execution_count": 6,
      "outputs": []
    },
    {
      "cell_type": "code",
      "source": [
        "generated_graphs.append(Grid(3, 10, \"Malla_30\"))\n",
        "generated_graphs.append(Grid(10, 10, \"Malla_100\"))\n",
        "generated_graphs.append(Grid(20, 25, \"Malla_500\"))"
      ],
      "metadata": {
        "id": "ApPCCGcFOk84"
      },
      "execution_count": 7,
      "outputs": []
    },
    {
      "cell_type": "code",
      "source": [
        ""
      ],
      "metadata": {
        "id": "A-EhXYdkTcYk"
      },
      "execution_count": 7,
      "outputs": []
    },
    {
      "cell_type": "markdown",
      "source": [
        "### Erdös-Renyi"
      ],
      "metadata": {
        "id": "NmKq_OeUCTYY"
      }
    },
    {
      "cell_type": "code",
      "source": [
        "def Erdos_Renyi(n, m, name, directed = False, auto = False):\n",
        "    matrix = np.zeros((n,n), dtype = int)    \n",
        "    Nodes = []\n",
        "    Edges = []\n",
        "\n",
        "    # generando nodos\n",
        "    for i in range(n):\n",
        "        Nodes.append(Node(i))\n",
        "    \n",
        "    # generando aristas\n",
        "    for i in range(m):  \n",
        "        while True:    \n",
        "            ini = random.randint(0, n - 1)\n",
        "            fin = random.randint(0, n - 1)\n",
        "\n",
        "            if ( (ini!=fin) or auto ) and matrix[ini][fin] == 0:\n",
        "                break\n",
        "\n",
        "        matrix[ini][fin] = 1\n",
        "\n",
        "        Edges.append(Edge(ini,fin))\n",
        "        if not directed:\n",
        "            matrix[fin][ini] = 1\n",
        "    \n",
        "    if directed:\n",
        "        new_graph = Graph(name, gtype = \"digraph\")\n",
        "    else:\n",
        "        new_graph = Graph(name)\n",
        "    new_graph.new_nodes(Nodes)\n",
        "    new_graph.new_edges(Edges)\n",
        "\n",
        "    return new_graph\n"
      ],
      "metadata": {
        "id": "0gZ2mgGnOiBC"
      },
      "execution_count": 8,
      "outputs": []
    },
    {
      "cell_type": "code",
      "source": [
        "generated_graphs.append(Erdos_Renyi(30, 50, \"E-R_30_m50\"))\n",
        "generated_graphs.append(Erdos_Renyi(100, 200, \"E-R_100_m200\"))\n",
        "generated_graphs.append(Erdos_Renyi(500, 1000, \"E-R_500_m1000\"))"
      ],
      "metadata": {
        "id": "ihk8wufgSU2e"
      },
      "execution_count": 9,
      "outputs": []
    },
    {
      "cell_type": "markdown",
      "source": [
        "### Gilbert"
      ],
      "metadata": {
        "id": "f1rVd-eECXfL"
      }
    },
    {
      "cell_type": "code",
      "source": [
        "def Gilbert(n, p, name, directed = False, auto = False):  \n",
        "    Nodes = []\n",
        "    Edges = []\n",
        "\n",
        "    # generando n nodos\n",
        "    for i in range(n):\n",
        "        Nodes.append(Node(i))\n",
        "\n",
        "    # generando aristas  \n",
        "    lim = n + auto - 1\n",
        "\n",
        "    for i in range(n):\n",
        "        if not directed:\n",
        "            lim = i + auto\n",
        "\n",
        "        for j in range(lim):\n",
        "            if random.random() <= p: # checa probabilidad\n",
        "                if auto or (not i == j):\n",
        "                    Edges.append(Edge(i, j))\n",
        "\n",
        "    if directed:\n",
        "        new_graph = Graph(name, gtype = \"digraph\")\n",
        "    else:\n",
        "        new_graph = Graph(name)\n",
        "        \n",
        "    new_graph.new_nodes(Nodes)\n",
        "    new_graph.new_edges(Edges)\n",
        "\n",
        "    return new_graph\n"
      ],
      "metadata": {
        "id": "-UqvOVT9Td1p"
      },
      "execution_count": 10,
      "outputs": []
    },
    {
      "cell_type": "code",
      "source": [
        "generated_graphs.append(Gilbert(30,.5,\"Gilbert_30_p50\"))\n",
        "generated_graphs.append(Gilbert(100,.3,\"Gilbert_100_p30\"))\n",
        "generated_graphs.append(Gilbert(500,.2,\"Gilbert_500_p20\"))"
      ],
      "metadata": {
        "id": "UZeb87GJUNFo"
      },
      "execution_count": 11,
      "outputs": []
    },
    {
      "cell_type": "markdown",
      "source": [
        "### Geográfico Simple"
      ],
      "metadata": {
        "id": "pGASDjSsCbGw"
      }
    },
    {
      "cell_type": "code",
      "source": [
        "def distance(x1, y1, x2, y2):\n",
        "    dis = mt.sqrt((x2 - x1) ** 2 + (y2 - y1) ** 2)\n",
        "    return dis"
      ],
      "metadata": {
        "id": "b-8PQDxcWDc5"
      },
      "execution_count": 12,
      "outputs": []
    },
    {
      "cell_type": "code",
      "source": [
        "def Simple_Geo(n, r, name,directed = False, auto = False):    \n",
        "    Nodes=[]\n",
        "    Edges=[]\n",
        "\n",
        "    xvector = []\n",
        "    yvector = []\n",
        "    \n",
        "    # nodos\n",
        "    for i in range (n):\n",
        "        x_i = random.random()\n",
        "        xvector.append(x_i)\n",
        "\n",
        "        y_i = random.random()\n",
        "        yvector.append(y_i)\n",
        "\n",
        "        Nodes.append(Node(i, x = x_i, y = y_i))\n",
        "\n",
        "    # aristas\n",
        "    for i in range(n):\n",
        "        for j in range(n - i - 1 + auto):\n",
        "            distan = distance(xvector[i], yvector[i], xvector[n - j - 1], yvector[n - j - 1])\n",
        "            if distan < r:\n",
        "                Edges.append(Edge(i, n - j - 1, w = distan))\n",
        "    \n",
        "    new_graph = Graph(name)\n",
        "    new_graph.new_nodes(Nodes)\n",
        "    new_graph.new_edges(Edges)\n",
        "\n",
        "    return new_graph"
      ],
      "metadata": {
        "id": "hLqI6knGUedR"
      },
      "execution_count": 13,
      "outputs": []
    },
    {
      "cell_type": "code",
      "source": [
        "generated_graphs.append(Simple_Geo(30,.2,\"Geo_30_r2\"))\n",
        "generated_graphs.append(Simple_Geo(100,.4,\"Geo_100_r4\"))\n",
        "generated_graphs.append(Simple_Geo(500,.7,\"Geo_500_r7\"))"
      ],
      "metadata": {
        "id": "JmfILHfLWSv6"
      },
      "execution_count": 14,
      "outputs": []
    },
    {
      "cell_type": "markdown",
      "source": [
        "### Barbasi Albert"
      ],
      "metadata": {
        "id": "_eE0nRVcCl7T"
      }
    },
    {
      "cell_type": "code",
      "source": [
        "def Barabasi_Albert(n, d, name, directed = False, auto = False):    \n",
        "    Nodes=[]\n",
        "    Edges=[]\n",
        "    n_list = []\n",
        "\n",
        "    # nodos\n",
        "    for i in range(n): \n",
        "        Nodes.append(Node(i))\n",
        "        n_list.append(0)\n",
        "\n",
        "        # comparando con nodos existentes\n",
        "        for j in range (0, i): \n",
        "            p = 1 - n_list[j] / d\n",
        "\n",
        "            if random.random() < p:\n",
        "                Edges.append(Edge(i, j))\n",
        "\n",
        "                n_list[i] += 1\n",
        "                n_list[j] += 1\n",
        "                Nodes[i].add_degree()\n",
        "                Nodes[j].add_degree()\n",
        "\n",
        "    if directed:\n",
        "        new_graph = Graph(name, gtype = \"digraph\")\n",
        "    else:\n",
        "        new_graph = Graph(name)\n",
        "\n",
        "    new_graph.new_nodes(Nodes)\n",
        "    new_graph.new_edges(Edges)\n",
        "\n",
        "    return new_graph"
      ],
      "metadata": {
        "id": "jfW1tceBWsKl"
      },
      "execution_count": 15,
      "outputs": []
    },
    {
      "cell_type": "code",
      "source": [
        "generated_graphs.append(Barabasi_Albert(30,5,\"B-A_30_5\"))\n",
        "generated_graphs.append(Barabasi_Albert(100,3,\"B-A_100_3\"))\n",
        "generated_graphs.append(Barabasi_Albert(500,10,\"B-A_500_10\"))"
      ],
      "metadata": {
        "id": "6tcYm11wXqKh"
      },
      "execution_count": 16,
      "outputs": []
    },
    {
      "cell_type": "markdown",
      "source": [
        "### Dorogovtsev-Mendes"
      ],
      "metadata": {
        "id": "dzj-8tvjCtku"
      }
    },
    {
      "cell_type": "code",
      "source": [
        "def Dorogovtsev_Mendes(n, name, directed = False):\n",
        "    Nodes=[]\n",
        "    Edges=[]\n",
        "\n",
        "    #Primeros tres nodos    \n",
        "    for i in range(3):\n",
        "        Nodes.append(Node(i))\n",
        "\n",
        "    vertex_l = [0, 1, 2]\n",
        "    \n",
        "    # primeras 3 aristas\n",
        "    Edges.append(Edge(0, 1))\n",
        "    Edges.append(Edge(1, 2))\n",
        "    Edges.append(Edge(2, 0))\n",
        "\n",
        "    edge_l = [[0, 1], [1, 2], [2, 0]]\n",
        "    \n",
        "    # nodos\n",
        "    for i in range(n - 3):\n",
        "        Nodes.append(Node(i + 3))\n",
        "        vertex_l.append(i + 3)\n",
        "    # aristas\n",
        "        select = random.randint(0, len(edge_l) - 1)\n",
        "\n",
        "        edge_l.append([i + 3, edge_l[select][0]])\n",
        "        edge_l.append([i + 3, edge_l[select][1]])\n",
        "        \n",
        "        Edges.append(Edge(i + 3, edge_l[select][0]))\n",
        "        Edges.append(Edge(i + 3, edge_l[select][1]))\n",
        "    \n",
        "    if directed:\n",
        "        new_graph = Graph(name, gtype = \"digraph\")\n",
        "    else:\n",
        "        new_graph = Graph(name)\n",
        "        \n",
        "    new_graph.new_nodes(Nodes)\n",
        "    new_graph.new_edges(Edges)\n",
        "\n",
        "    return new_graph"
      ],
      "metadata": {
        "id": "jCJR1u3HYBvf"
      },
      "execution_count": 17,
      "outputs": []
    },
    {
      "cell_type": "code",
      "source": [
        "generated_graphs.append(Dorogovtsev_Mendes(30,\"D-M_30\"))\n",
        "generated_graphs.append(Dorogovtsev_Mendes(100,\"D-M_100\"))\n",
        "generated_graphs.append(Dorogovtsev_Mendes(500,\"D-M_500\"))"
      ],
      "metadata": {
        "id": "eK8VB2V9ZYT1"
      },
      "execution_count": 18,
      "outputs": []
    },
    {
      "cell_type": "markdown",
      "source": [
        "## Archivos P1"
      ],
      "metadata": {
        "id": "QT9r6ZXGZUmZ"
      }
    },
    {
      "cell_type": "code",
      "source": [
        "for i in range(len(generated_graphs)):\n",
        "    generated_graphs[i].save_graph(generated_graphs[i].Name)"
      ],
      "metadata": {
        "id": "klvqlnM9Oye4"
      },
      "execution_count": 19,
      "outputs": []
    }
  ]
}
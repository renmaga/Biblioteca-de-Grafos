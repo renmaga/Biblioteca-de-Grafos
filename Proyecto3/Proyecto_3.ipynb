{
  "nbformat": 4,
  "nbformat_minor": 0,
  "metadata": {
    "colab": {
      "name": "Proyecto_3.ipynb",
      "provenance": []
    },
    "kernelspec": {
      "name": "python3",
      "display_name": "Python 3"
    },
    "language_info": {
      "name": "python"
    }
  },
  "cells": [
    {
      "cell_type": "code",
      "source": [
        "import numpy as np\n",
        "import random\n",
        "import math \n",
        "import copy"
      ],
      "metadata": {
        "id": "H85VFoUPWBHa"
      },
      "execution_count": 1,
      "outputs": []
    },
    {
      "cell_type": "markdown",
      "source": [
        "# Clases"
      ],
      "metadata": {
        "id": "pdAg_MHXc47E"
      }
    },
    {
      "cell_type": "markdown",
      "source": [
        "## Nodos [N]"
      ],
      "metadata": {
        "id": "5M2lrqQUVOkL"
      }
    },
    {
      "cell_type": "code",
      "execution_count": 2,
      "metadata": {
        "id": "gvL-gqtDUbBI"
      },
      "outputs": [],
      "source": [
        "class Node:\n",
        "  # propiedades de los nodos [N]\n",
        "  def __init__(self, tag, x = 0, y = 0, deg = 0):\n",
        "    self.tag = tag    # etiqueta del nodo\n",
        "    self.x = x        # índice x\n",
        "    self.y = y        # índice y\n",
        "    self.deg = deg    # grado del nodo\n",
        "\n",
        "  # funciones\n",
        "  def node_tag(self):\n",
        "    return self.tag\n",
        "  def node_deg(self):\n",
        "    return self.deg\n",
        "  def node_add_deg(self):\n",
        "    self.deg = self.deg + 1 "
      ]
    },
    {
      "cell_type": "markdown",
      "source": [
        "## Aristas [E = (n1, n2)]"
      ],
      "metadata": {
        "id": "m8NIeVqQWfvy"
      }
    },
    {
      "cell_type": "code",
      "source": [
        "class Edge:\n",
        "  # propiedades de las aristas [E = (n1, n2)]\n",
        "  def __init__(self, start_node, end_node, weight = 0):\n",
        "    self.start = start_node   # n1\n",
        "    self.end = end_node       # n2\n",
        "    self.weight = weight      # peso de la arista\n",
        "  \n",
        "  # funciones\n",
        "  def edge_n1(self):\n",
        "    return self.start\n",
        "  def edge_n2(self):\n",
        "    return self.end\n",
        "  def edge_nodes(self):\n",
        "    return [self.start, self.end]"
      ],
      "metadata": {
        "id": "WseilxyuVR2e"
      },
      "execution_count": 3,
      "outputs": []
    },
    {
      "cell_type": "markdown",
      "source": [
        "## Grafos [G(N,E)]"
      ],
      "metadata": {
        "id": "py8A_AkGYFb0"
      }
    },
    {
      "cell_type": "code",
      "source": [
        "class Graph:\n",
        "  # propiedades de los grafos [G(N,E)]\n",
        "  def __init__(self, name, graph_type = 'graph', path = False):\n",
        "    self.name = name          # nombre del grafo\n",
        "    self.gtype = graph_type   # tipo del grafo (dirigido o no)\n",
        "    self.path = path          # camino\n",
        "\n",
        "    self.nodes = []           # lista de nodos en G\n",
        "    self.edges = []           # lista de aristas de G\n",
        "    self.node_lst = []        # lista de nodos en camino\n",
        "    self.node_weight = []     # lista de pesos de nodos en camino\n",
        "    self.edge_lst = []        # lista de aristas  en camino\n",
        "\n",
        "  # funciones\n",
        "  def add_nodes(self, new_nodes):\n",
        "    self.nodes.extend(new_nodes)\n",
        "  def get_nodes(self):\n",
        "    return self.nodes\n",
        "  def add_edges(self, new_edges):\n",
        "    self.edges.extend(new_edges)\n",
        "  def get_edges(self):\n",
        "    return self.edges\n",
        "\n",
        "  ##### función para exportar el grafo #####\n",
        "\n",
        "  # formato GraphViz (.gv)\n",
        "  def save_graph(self, graph_name, rand_weight = False):\n",
        "    \n",
        "    # generando cadena de texto a guardar\n",
        "    inside_file = self.gtype + \" \" + self.name + \" {\\n\"  # nombre y tipo del grafo\n",
        "\n",
        "    ## agregando nodos ##\n",
        "    # en camino  \n",
        "    if self.path:\n",
        "      for i in range(len(self.nodes)):\n",
        "        if i in self.node_lst:\n",
        "          pos_node = self.node_lst.index(i)\n",
        "          # etiquetado con peso\n",
        "          inside_file += str(self.nodes[i].tag)+\" [label=\"+str(self.nodes[i].tag)+\"(\"+str(self.node_weight[pos_node])+\")];\\n\"\n",
        "        # no conectado  \n",
        "        else: \n",
        "          inside_file += str(self.nodes[i].tag)+\";\\n\"\n",
        "    # sin camino\n",
        "    else:\n",
        "      for i in range(len(self.nodes)):\n",
        "        inside_file += str(self.nodes[i].tag)+\";\\n\"\n",
        "    \n",
        "    \n",
        "    # unión arista\n",
        "    if self.gtype == 'graph':\n",
        "      edge_style = \"--\"\n",
        "    elif self.gtype == 'digraph':\n",
        "      edge_style = '->'\n",
        "\n",
        "\n",
        "    ## agregando aristas ##\n",
        "    # con peso aleatorio\n",
        "    if rand_weight:\n",
        "      for i in range(len(self.edges)):\n",
        "        inside_file += str(self.edges[i].start) + edge_style + str(self.edges[i].end) + \"[w = \" +str(round(random.random()*3)+1) + \"\\\"]\"+\";\\n\"\n",
        "    # con peso en camino\n",
        "    elif self.path:\n",
        "      for i in range(len(self.edges)):\n",
        "        inside_file += str(self.edges[i].start) + edge_style + str(self.edges[i].end) + \"[w = \" +str(self.edges[i].weight) + \"\\\"]\"+\";\\n\"\n",
        "    else: \n",
        "      for j in range(len(self.edges)):\n",
        "        inside_file += str(self.edges[j].start) + edge_style + str(self.edges[j].end) + \";\\n\"\n",
        "    # con camino\n",
        "    if self.path:\n",
        "      for i in range(len(self.edge_lst)):\n",
        "        inside_file += str(self.edge_lst[i][0]) + edge_style + str(self.edge_lst[i][1]) +\" [color = pink,] ;\\n\"\n",
        " \n",
        "    # final del archivo\n",
        "    inside_file += \"}\"\n",
        "\n",
        "    # escribiendo archivo\n",
        "    with open(graph_name + \".gv\", 'w') as outfile:\n",
        "      outfile.write(inside_file)"
      ],
      "metadata": {
        "id": "c5dOBesRYPjp"
      },
      "execution_count": 4,
      "outputs": []
    },
    {
      "cell_type": "markdown",
      "source": [
        "# Modelos de generación de grafos"
      ],
      "metadata": {
        "id": "tMh-Kp4Yc9ri"
      }
    },
    {
      "cell_type": "markdown",
      "source": [
        "## Modelo de malla"
      ],
      "metadata": {
        "id": "DnHSwCXZdGkB"
      }
    },
    {
      "cell_type": "code",
      "source": [
        "def Grid(n, m, name, graph_type = 'graph'):\n",
        "  # listas iniciales\n",
        "  nodes = []\n",
        "  edges = []\n",
        "    \n",
        "  # generando nodos\n",
        "  for j in range(m):\n",
        "    for i in range(n): \n",
        "      nodes.append(Node(i, i, j))\n",
        "   \n",
        "  # generando aristas # orilla\n",
        "  for j in range(m-1):\n",
        "    edges.append(Edge(j*n + n -1, j*n + 2*n -1))\n",
        "    for i in range(n-1):\n",
        "      edges.append(Edge(j*n + i, j*n + i + 1)) \n",
        "      edges.append(Edge(j*n + i, j*n + i + n))\n",
        "  for i in range(n-1): # orilla\n",
        "    edges.append(Edge(n*(m-1) + i, n*(m-1) + i + 1))\n",
        "\n",
        "  # generando grafo\n",
        "  new_graph = Graph(name)\n",
        "  new_graph.add_nodes(nodes)\n",
        "  new_graph.add_edges(edges)\n",
        "\n",
        "  return new_graph"
      ],
      "metadata": {
        "id": "CYPbCNM2IGZq"
      },
      "execution_count": 5,
      "outputs": []
    },
    {
      "cell_type": "code",
      "source": [
        "#G.append(Grid(3, 10, \"Malla30\"))\n",
        "#G.append(Grid(10, 10, \"Malla100\"))\n",
        "#G.append(Grid(25, 20, \"Malla500\"))"
      ],
      "metadata": {
        "id": "mL--uaQBQ6q_"
      },
      "execution_count": 6,
      "outputs": []
    },
    {
      "cell_type": "markdown",
      "source": [
        "## Modelo de Erdös y Rényi"
      ],
      "metadata": {
        "id": "I8gBtzRVVHtD"
      }
    },
    {
      "cell_type": "code",
      "source": [
        "def Erdos_Renyi(n, m, name, graph_type = 'graph', auto=False):\n",
        "  # iniciales\n",
        "  matrix = np.zeros((n, n), dtype=int)    \n",
        "  nodes = []\n",
        "  edges = []\n",
        "\n",
        "  # generando n nodos\n",
        "  for i in range(n):\n",
        "    nodes.append(Node(i))\n",
        "\n",
        "  # generando m aristas\n",
        "  for i in range(m):  \n",
        "    while True:\n",
        "      # aristas entre nodos aleatorios    \n",
        "      start_node = random.randint(0, n - 1)\n",
        "      end_node = random.randint(0, n - 1)\n",
        "      if ( (start_node != end_node) or auto ) and matrix[start_node][end_node] == 0:\n",
        "       break\n",
        "    matrix[start_node][end_node] = 1\n",
        "    matrix[end_node][start_node] = 1\n",
        "\n",
        "    edges.append(Edge(start_node, end_node))\n",
        "    edges.append(Edge(end_node, start_node))\n",
        "\n",
        "  # generando grafo            \n",
        "  new_graph = Graph(name)\n",
        "  new_graph.add_nodes(nodes)\n",
        "  new_graph.add_edges(edges)\n",
        "  \n",
        "  return new_graph"
      ],
      "metadata": {
        "id": "sFRcJt2rReRs"
      },
      "execution_count": 7,
      "outputs": []
    },
    {
      "cell_type": "code",
      "source": [
        "#G.append(Erdos_Renyi(30, 50, \"ErdRen30_50\"))\n",
        "#G.append(Erdos_Renyi(100, 300, \"ErdRen100_300\"))\n",
        "#G.append(Erdos_Renyi(500, 1000, \"ErdRen500_1000\"))"
      ],
      "metadata": {
        "id": "FlnOw5vIaKPk"
      },
      "execution_count": 8,
      "outputs": []
    },
    {
      "cell_type": "markdown",
      "source": [
        "## Modelo de Gilbert"
      ],
      "metadata": {
        "id": "f3HuhUdvce9H"
      }
    },
    {
      "cell_type": "code",
      "source": [
        "def Gilbert(n, p, name, gtype = 'graph', auto = False):\n",
        "  # listas iniciales\n",
        "  nodes = []\n",
        "  edges = [] \n",
        "   \n",
        "  # generando vértices\n",
        "  for i in range(n):\n",
        "    nodes.append(Node(i))\n",
        "\n",
        "  # generando aristas\n",
        "  lim = n + auto - 1\n",
        "  for i in range(n):\n",
        "    lim=i+auto\n",
        "    for j in range(lim):\n",
        "      if random.random() <= p:\n",
        "        if auto or (not i == j):\n",
        "          edges.append(Edge(i, j))\n",
        "\n",
        "  # generando grafo\n",
        "  new_graph = Graph(name)\n",
        "  new_graph.add_nodes(nodes)\n",
        "  new_graph.add_edges(edges)\n",
        "\n",
        "  return new_graph"
      ],
      "metadata": {
        "id": "LJYXKxbnbBvC"
      },
      "execution_count": 9,
      "outputs": []
    },
    {
      "cell_type": "code",
      "source": [
        "#G.append(Gilbert(30, .3, \"Gil30_.3\"))\n",
        "#G.append(Gilbert(100, .2, \"Gil100_.2\"))\n",
        "#G.append(Gilbert(500, .1, \"Gil500_.1\"))"
      ],
      "metadata": {
        "id": "4eCt8JNVeQMW"
      },
      "execution_count": 10,
      "outputs": []
    },
    {
      "cell_type": "markdown",
      "source": [
        "## Modelo geográfico simple"
      ],
      "metadata": {
        "id": "PyjbAseY9aTK"
      }
    },
    {
      "cell_type": "code",
      "source": [
        "# distancia euclideana (entre nodos)\n",
        "def euclid_dist(x1, y1, x2, y2):\n",
        "  dist = math.sqrt((x2 - x1) ** 2 + (y2 - y1) ** 2)\n",
        "  return dist\n",
        "\n",
        "def Simple_Geo(n, r, name, graph_type = 'graph', auto = False):   \n",
        "  # listas iniciales\n",
        "  nodes = []\n",
        "  edges = [] \n",
        "\n",
        "  x_coords=[]\n",
        "  y_coords=[]\n",
        "  \n",
        "  # generando nodos\n",
        "  for i in range (n):\n",
        "    x = random.random()\n",
        "    x_coords.append(x)\n",
        "    y = random.random()\n",
        "    y_coords.append(y)\n",
        "    nodes.append(Node(i, x = x, y = y))\n",
        "  \n",
        "  # generando aristas\n",
        "  for i in range(n):\n",
        "    for j in range(n - i - 1 + auto):\n",
        "      distance = euclid_dist(x_coords[i], y_coords[i], x_coords[n-j-1], y_coords[n-j-1])\n",
        "      if distance < r:\n",
        "        edges.append(Edge(i, n-j-1, weight = distance))\n",
        "\n",
        "  # generando grafo\n",
        "  new_graph = Graph(name)\n",
        "  new_graph.add_nodes(nodes)\n",
        "  new_graph.add_edges(edges)\n",
        "\n",
        "  return new_graph"
      ],
      "metadata": {
        "id": "Z0_IamXtekjq"
      },
      "execution_count": 11,
      "outputs": []
    },
    {
      "cell_type": "code",
      "source": [
        "#G.append(Simple_Geo(30, .2, \"Geo30_.2\"))\n",
        "#G.append(Simple_Geo(100, .1, \"Geo100_.1\"))\n",
        "#G.append(Simple_Geo(500, .05, \"Geo500_.05\"))"
      ],
      "metadata": {
        "id": "Y9Y2XAjA6Ngp"
      },
      "execution_count": 12,
      "outputs": []
    },
    {
      "cell_type": "markdown",
      "source": [
        "## Modelo Barabasi-Albert"
      ],
      "metadata": {
        "id": "9Yp6kncRTui6"
      }
    },
    {
      "cell_type": "code",
      "source": [
        "def Barabasi_Albert(n, d, name, graph_type = 'graph', auto = False):    \n",
        "  # listas iniciales\n",
        "  nodes = []\n",
        "  edges = [] \n",
        "  node_list = []\n",
        "\n",
        "  # generando nodos\n",
        "  for i in range(n): \n",
        "    nodes.append(Node(i))\n",
        "    node_list.append(0)\n",
        "    # comparando con nodos anteriores  \n",
        "    for j in range (0,i): \n",
        "      p = 1 - node_list[j] / d\n",
        "      # generando aristas\n",
        "      if random.random() < p:\n",
        "        edges.append(Edge(i, j))\n",
        "        node_list[i] += 1\n",
        "        node_list[j] += 1\n",
        "        nodes[i].node_add_deg()\n",
        "        nodes[j].node_add_deg()\n",
        "        \n",
        "  # generando grafo\n",
        "  new_graph = Graph(name)\n",
        "  new_graph.add_nodes(nodes)\n",
        "  new_graph.add_edges(edges)\n",
        "\n",
        "  return new_graph"
      ],
      "metadata": {
        "id": "ypyc_uz7Tx9i"
      },
      "execution_count": 13,
      "outputs": []
    },
    {
      "cell_type": "markdown",
      "source": [
        "## Modelo Dorogovtsev-Mendes"
      ],
      "metadata": {
        "id": "KXOd3P4U6wtO"
      }
    },
    {
      "cell_type": "code",
      "source": [
        "def Dorogovtsev_Mendes(n, name, graph_type = 'graph', limit = 0):\n",
        "  # listas iniciales\n",
        "  nodes = []\n",
        "  edges = [] \n",
        "    \n",
        "  #Primeros tres nodos  \n",
        "  for i in range(3):\n",
        "    nodes.append(Node(i))\n",
        "  edges.append(Edge(0,1))\n",
        "  edges.append(Edge(1,2))\n",
        "  edges.append(Edge(2,0))\n",
        "\n",
        "  if limit:\n",
        "    nodes[0].node_add_deg()\n",
        "    nodes[1].node_add_deg()\n",
        "    nodes[2].node_add_deg()\n",
        "    nodes[0].node_add_deg()\n",
        "    nodes[1].node_add_deg()\n",
        "    nodes[2].node_add_deg()\n",
        "\n",
        "  for i in range(n - 3):\n",
        "    nodes.append(Node(i + 3))\n",
        "    if limit:\n",
        "      flag = True\n",
        "      while flag:\n",
        "        pick = random.randint(0, len(edges)-1)\n",
        "        if nodes[edges[pick].edge_n1()].node_deg() < limit and nodes[edges[pick].edge_n2()].node_deg() < limit:\n",
        "          flag = False\n",
        "    else:\n",
        "      pick = random.randint(0,len(edges)-1)\n",
        "    \n",
        "    edges.append(Edge(i+3,edges[pick].edge_n1()))\n",
        "    edges.append(Edge(i+3,edges[pick].edge_n2()))\n",
        "    if limit:\n",
        "      nodes[-1].node_add_deg()\n",
        "      nodes[-1].node_add_deg()\n",
        "      nodes[edges[pick].edge_n1()].node_add_deg()\n",
        "      nodes[edges[pick].edge_n2()].node_add_deg()\n",
        "\n",
        "  # generando grafo\n",
        "  new_graph = Graph(name)\n",
        "  new_graph.add_nodes(nodes)\n",
        "  new_graph.add_edges(edges)\n",
        "\n",
        "  return new_graph"
      ],
      "metadata": {
        "id": "xbaY9oNc63D6"
      },
      "execution_count": 14,
      "outputs": []
    },
    {
      "cell_type": "code",
      "source": [
        "#G.append(Dor_Men(30, \"DorMen30\"))\n",
        "#G.append(Dor_Men(100, \"DorMen100\"))\n",
        "#G.append(Dor_Men(500, \"DorMen500\"))"
      ],
      "metadata": {
        "id": "dWqlO0YSKw9T"
      },
      "execution_count": 15,
      "outputs": []
    },
    {
      "cell_type": "markdown",
      "source": [
        ""
      ],
      "metadata": {
        "id": "NZLHoUE_KoVn"
      }
    },
    {
      "cell_type": "markdown",
      "source": [
        "# Algoritmo de Dijkstra"
      ],
      "metadata": {
        "id": "KU1gCdHnLDBq"
      }
    },
    {
      "cell_type": "code",
      "source": [
        "def rand_weight(a, max_w):    \n",
        "    grf = copy.deepcopy(a)\n",
        "    for i in range(len(grf.edges)):\n",
        "        grf.edges[i].weight = int(round(random.random()*(max_w - 1)) + 1)\n",
        "    return grf"
      ],
      "metadata": {
        "id": "nMkXZV5KLQDm"
      },
      "execution_count": 16,
      "outputs": []
    },
    {
      "cell_type": "code",
      "source": [
        "def Dijkstra(graph):\n",
        "  g = copy.deepcopy(graph)\n",
        "    \n",
        "  new_nodes = len(g.nodes)\n",
        "  start = round(random.random() * (new_nodes-1))\n",
        "  end = round(random.random() * (new_nodes-1))\n",
        "\n",
        "  # árbol de expansión mínima\n",
        "\n",
        "  matrix = np.zeros((new_nodes, new_nodes), dtype = int)\n",
        "  for i in range(len(graph.edges)):\n",
        "    matrix[graph.edges[i].start][graph.edges[i].end] = graph.edges[i].weight\n",
        "    matrix[graph.edges[i].end][graph.edges[i].start] = graph.edges[i].weight\n",
        "\n",
        "  # condiciones iniciales\n",
        "  visited_nodes = [start]\n",
        "  visited_nodes_w = [0]\n",
        "  visited_edges = [] \n",
        "  adjacent_nodes = np.asarray(np.where(matrix[start] > 0)[0])\n",
        "  adjacent_edges = []\n",
        "\n",
        "  # visitando vecinos  \n",
        "  for i in range(len(adjacent_nodes)):\n",
        "    adjacent_edges.append([start, adjacent_nodes[i]])\n",
        "  \n",
        "  adjacent_edges_w = matrix[start][adjacent_nodes]\n",
        "  adjacent_nodes_w = matrix[start][adjacent_nodes]    \n",
        "  \n",
        "  # sin peso de aristas recorridas\n",
        "  for i in range(new_nodes):\n",
        "    matrix[start][i] = 0\n",
        "    matrix[i][start] = 0 \n",
        "  # nodos sin explorar     \n",
        "  while len(adjacent_nodes): \n",
        "    pick = np.where(adjacent_nodes_w == min(adjacent_nodes_w))[0]\n",
        "    pick = pick[0]\n",
        "    # recorridos\n",
        "    visited_edges.append(adjacent_edges[pick])\n",
        "    visited_nodes.append(adjacent_nodes[pick])\n",
        "    visited_nodes_w.append(adjacent_nodes_w[pick])    \n",
        "    \n",
        "    # actualizando  vecinos, nodos, aristas, y pesos\n",
        "    node_pick = adjacent_nodes[pick]\n",
        "    new_nodes_lst = np.where(matrix[node_pick] > 0)[0]\n",
        "    new_edges_lst = []\n",
        "    \n",
        "    for i in range(len(new_nodes_lst)):\n",
        "      new_edges_lst.append([node_pick, new_nodes_lst[i]])\n",
        "    \n",
        "    new_edges_W_lst = matrix[node_pick][new_nodes_lst]\n",
        "    new_nodes_W_lst = new_edges_W_lst + adjacent_nodes_w[pick]\n",
        "\n",
        "    # actualizando con peso mínimo    \n",
        "    for i in range(len(new_nodes_lst)):\n",
        "      # nodos nuevos\n",
        "      if new_nodes_lst[i] not in adjacent_nodes: \n",
        "        adjacent_nodes = np.append(adjacent_nodes, new_nodes_lst[i])\n",
        "        adjacent_edges.append(new_edges_lst[i])\n",
        "        adjacent_edges_w = np.append(adjacent_edges_w,new_edges_W_lst[i])\n",
        "        adjacent_nodes_w = np.append(adjacent_nodes_w,new_nodes_W_lst[i])\n",
        "      # nodos previos\n",
        "      else:       \n",
        "        node_choice = np.where(adjacent_nodes == new_nodes_lst[i])[0] \n",
        "        node_choice = node_choice[0]\n",
        "        # peso del camino viejo vs nuevo\n",
        "        if adjacent_nodes_w[node_choice] > new_nodes_W_lst[i]: \n",
        "          adjacent_edges[node_choice] = new_edges_lst[i]\n",
        "          adjacent_nodes_w[node_choice] = new_nodes_W_lst[i]\n",
        "          adjacent_edges_w[node_choice] = new_edges_W_lst[i]\n",
        "    # quitando el anterior\n",
        "    for i in range(new_nodes):\n",
        "      matrix[node_pick][i] = 0\n",
        "      matrix[i][node_pick] = 0\n",
        "\n",
        "    adjacent_nodes = np.delete(adjacent_nodes, pick)\n",
        "    adjacent_nodes_w = np.delete(adjacent_nodes_w, pick)\n",
        "    adjacent_edges.pop(pick)\n",
        "    adjacent_edges_w = np.delete(adjacent_edges_w, pick)    \n",
        "\n",
        "  # grafo con camino\n",
        "  g.name = g.name + \"_\" + str(start)\n",
        "  g.path = True\n",
        "  g.edge_lst = visited_edges\n",
        "  g.node_lst = visited_nodes\n",
        "  g.node_weight = visited_nodes_w\n",
        "  \n",
        "  return g"
      ],
      "metadata": {
        "id": "1zYR1F9hLJth"
      },
      "execution_count": 17,
      "outputs": []
    },
    {
      "cell_type": "code",
      "source": [
        "G=[]\n",
        "\n",
        "G.append(Grid(5,10,\"Malla50\"))\n",
        "G.append(Grid(25,40,\"Malla1000\"))\n",
        "\n",
        "G.append(Erdos_Renyi(50,100,\"ErdRen50\")) \n",
        "G.append(Erdos_Renyi(1000,2000,\"ErdRen1000\")) \n",
        "\n",
        "G.append(Gilbert(50,.2,\"Gil50\"))\n",
        "G.append(Gilbert(1000,.05,\"Gil1000\"))\n",
        "\n",
        "G.append(Simple_Geo(50,.3,\"Geo50\"))\n",
        "G.append(Simple_Geo(1000,.1,\"Geo1000\"))\n",
        "\n",
        "G.append(Barabasi_Albert(50,3,\"BarAlb50\"))\n",
        "G.append(Barabasi_Albert(1000,5,\"BarAlb1000\"))\n",
        "\n",
        "G.append(Dorogovtsev_Mendes(50,\"DorMen50\"))\n",
        "G.append(Dorogovtsev_Mendes(1000,\"DorMen1000\"))\n",
        "\n",
        "for i in range(len(G)):\n",
        "  G[i]=rand_weight(G[i],100)\n",
        "  G[i].save_graph(G[i].name)\n",
        "  a=Dijkstra(G[i])\n",
        "  a.save_graph(a.name)"
      ],
      "metadata": {
        "id": "7o6I0ko1MPfl"
      },
      "execution_count": 18,
      "outputs": []
    },
    {
      "cell_type": "code",
      "source": [
        ""
      ],
      "metadata": {
        "id": "f-hxsYDuV2h-"
      },
      "execution_count": 18,
      "outputs": []
    }
  ]
}
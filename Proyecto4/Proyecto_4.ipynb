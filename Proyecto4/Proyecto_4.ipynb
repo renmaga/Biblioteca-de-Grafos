{
  "nbformat": 4,
  "nbformat_minor": 0,
  "metadata": {
    "colab": {
      "name": "Proyecto_4.ipynb",
      "provenance": [],
      "collapsed_sections": []
    },
    "kernelspec": {
      "name": "python3",
      "display_name": "Python 3"
    },
    "language_info": {
      "name": "python"
    }
  },
  "cells": [
    {
      "cell_type": "markdown",
      "source": [
        "# Biblioteca de generación y manejo de grafos\n",
        "\n",
        "Biblioteca orientada a objetos, para describir y utilizar grafos. "
      ],
      "metadata": {
        "id": "qyHJ2lC5Vk8S"
      }
    },
    {
      "cell_type": "code",
      "source": [
        "import random\n",
        "import numpy as np\n",
        "import math as mt\n",
        "import matplotlib.pyplot as plt\n",
        "import copy\n",
        "import time as tm\n",
        "import os\n",
        "import imageio"
      ],
      "metadata": {
        "id": "PPnlAvnQpvP-"
      },
      "execution_count": 1,
      "outputs": []
    },
    {
      "cell_type": "markdown",
      "source": [
        "# Clases"
      ],
      "metadata": {
        "id": "BocuM1e3V35Z"
      }
    },
    {
      "cell_type": "markdown",
      "source": [
        "## Nodo"
      ],
      "metadata": {
        "id": "90pANUcgXcRQ"
      }
    },
    {
      "cell_type": "code",
      "source": [
        "class Node:\n",
        "  def __init__(self, name, x = 0, y = 0, deg = 0):\n",
        "    # propiedades\n",
        "    self.name = name\n",
        "    self.x_coord = x\n",
        "    self.y_cord = y\n",
        "    self.degree = deg\n",
        "    self.weight = 0\n",
        "  \n",
        "  # funciones  \n",
        "  def get_name(self):\n",
        "    return self.name\n",
        "  def get_degree(self):\n",
        "    return self.degree\n",
        "  def add_degree(self):\n",
        "    self.degree += 1"
      ],
      "metadata": {
        "id": "VYhEpzRRwsrA"
      },
      "execution_count": 2,
      "outputs": []
    },
    {
      "cell_type": "markdown",
      "source": [
        "## Arista"
      ],
      "metadata": {
        "id": "1gDYtdMVXu9i"
      }
    },
    {
      "cell_type": "code",
      "source": [
        "class Edge:\n",
        "  def __init__(self, start, end, d = 0, w = 0):\n",
        "    # propiedades\n",
        "    self.start = start\n",
        "    self.end = end\n",
        "    self.dist = d\n",
        "    self.weight = w\n",
        "  \n",
        "  # funciones\n",
        "  def edge_start(self):\n",
        "    return self.start\n",
        "  def edge_end(self):\n",
        "    return self.end\n",
        "  def edge_nodes(self):\n",
        "    return [self.start, self.end]"
      ],
      "metadata": {
        "id": "7i3rHw-2xXba"
      },
      "execution_count": 3,
      "outputs": []
    },
    {
      "cell_type": "markdown",
      "source": [
        "## Grafo"
      ],
      "metadata": {
        "id": "k_ddhSIaWAV8"
      }
    },
    {
      "cell_type": "code",
      "source": [
        "class Graph:\n",
        "  def __init__(self, name, gtype = \"graph\", path = False):\n",
        "    # propiedades\n",
        "    self.name = name\n",
        "    self.nodes = []\n",
        "    self.edges = []\n",
        "    self.gtype = gtype\n",
        "    # cuando hay caminos\n",
        "    self.path = path\n",
        "    self.node_list = []\n",
        "    self.edge_list = []\n",
        "    self.weight_list = []\n",
        "\n",
        "  # acciones nodos\n",
        "  def add_nodes(self, Lnodes):\n",
        "    self.nodes.extend(Lnodes)\n",
        "  def get_nodes(self):\n",
        "    return self.nodes\n",
        "  # acciones aristas\n",
        "  def add_edges(self, Ledges):\n",
        "    self.edges.extend(Ledges)\n",
        "  def get_edges(self):\n",
        "    return self.edges\n",
        "\n",
        "############################# Función de exportación #####################################\n",
        "\n",
        "  def save_graph(self, filename, rand_weight = False):\n",
        "    infile = self.gtype + \" \" + self.name + \" {\\n\"\n",
        "    \n",
        "    # no dirigido\n",
        "    if self.gtype == \"graph\":\n",
        "      edge_type = \" -- \"\n",
        "    # dirigido  \n",
        "    else:\n",
        "      edge_type = \" -> \"\n",
        "    \n",
        "    # en caso de camino\n",
        "    if self.path:\n",
        "      for i in range(len(self.nodes)):\n",
        "        if i in self.node_list:\n",
        "          node_position = self.node_list.index(i)\n",
        "          infile += str(self.nodes[i].name) + \" [label=nd_\" + str(self.nodes[i].name) + \"(\" + str(self.weight_list[node_position]) + \")];\\n\"\n",
        "        else: \n",
        "          infile += str(self.nodes[i].name) + \";\\n\"\n",
        "\n",
        "      for i in range(len(self.edge_list)):\n",
        "        infile += str(self.edge_list[i][0]) + edge_type + str(self.edge_list[i][1]) + \" [color = pink,] ;\\n\"\n",
        "    # sin camino\n",
        "    else:\n",
        "      for i in range(len(self.nodes)):\n",
        "        infile += str(self.nodes[i].name) + \";\\n\"\n",
        "    \n",
        "    # aristas con peso/distancia\n",
        "    if rand_weight:\n",
        "      for i in range(len(self.edges)):\n",
        "        infile += str(self.edges[i].start) + edge_type + str(self.edges[i].end) + \"[weight=\\\"\" + str(round(random.random() * 4) + 1) + \"\\\"]\" + \";\\n\"\n",
        "    elif self.path:\n",
        "      for i in range(len(self.edges)):\n",
        "        infile += str(self.edges[i].start) + edge_type + str(self.edges[i].end) + \"[weight=\\\"\" + str(self.edge[i].weight) + \"\\\"]\" + \";\\n\"            \n",
        "    else:\n",
        "      for i in range(len(self.edges)):\n",
        "        infile += str(self.edges[i].start) + edge_type + str(self.edges[i].end) + \" [color=black];\\n\"\n",
        "      \n",
        "    infile += \"}\"\n",
        "\n",
        "    # genera archivo GraphViz    \n",
        "    with open(filename + '.gv', 'w') as outfile:\n",
        "      outfile.write(infile)\n",
        "    \n",
        "    return infile"
      ],
      "metadata": {
        "id": "f4v9EtGtWCsV"
      },
      "execution_count": 4,
      "outputs": []
    },
    {
      "cell_type": "markdown",
      "source": [
        "# 1. Modelos de generación de grafos"
      ],
      "metadata": {
        "id": "dLYmZ2-GYE9h"
      }
    },
    {
      "cell_type": "markdown",
      "source": [
        "### Malla"
      ],
      "metadata": {
        "id": "LiqWsWLkaQTN"
      }
    },
    {
      "cell_type": "code",
      "source": [
        "# malla de n filas * m columnas\n",
        "def Grid(n, m, name, direc = False):\n",
        "  # inicial  \n",
        "  nodes = []\n",
        "  edges = []    \n",
        "\n",
        "  node_count = 0\n",
        "  ########### genera nodos ###########\n",
        "  for i in range(n):\n",
        "    for j in range(m):    \n",
        "      nodes.append(Node(node_count, x = j, y = i))\n",
        "      node_count += 1\n",
        "\n",
        "  ########### genera aristas ###########\n",
        "  for j in range(m-1):\n",
        "    # orilla derecha\n",
        "    edges.append(Edge(n-1+i*n,2*n-1+i*n))\n",
        "    for i in range(n-1):\n",
        "      # orilla superior\n",
        "      edges.append(Edge(n*(m-1) + i, n*(m-1) + i + 1))\n",
        "      # aristas generales\n",
        "      edges.append(Edge(i + n*j, i + n*j + 1))\n",
        "      edges.append(Edge(i + n*j, i+ n*j + n))\n",
        "  \n",
        "  '''\n",
        "  #Hasta la derecha\n",
        "  for i in range(m-1): #n es el ancho, m es la altura\n",
        "    Aris.append(Arista(n-1+i*n,2*n-1+i*n)) \n",
        "  #Hasta arriba\n",
        "  for i in range(n-1): #n es el ancho, m es la altura\n",
        "    Aris.append(Arista(n*(m-1)+i,n*(m-1)+i+1))\n",
        "  \n",
        "  if pacman: #si es un mundo pacman y el final es el inicio :o Ö o.o O_O\n",
        "    #Conectamos derecha con izquierda\n",
        "    for i in range(m):\n",
        "      Aris.append(Arista(n-1+i*n,i*n))\n",
        "    #Conectamos arriba con abajo\n",
        "    for i in range(n):\n",
        "      Aris.append(Arista(n*(m-1)+i,i))\n",
        "  '''\n",
        "  # dirigido    \n",
        "  if direc:\n",
        "    new_graph = Graph(name, gtype = \"digraph\")\n",
        "  # no dirigido \n",
        "  else:\n",
        "    new_graph = Graph(name)\n",
        "  \n",
        "  # G(N,E)\n",
        "  new_graph.add_nodes(nodes)\n",
        "  new_graph.add_edges(edges)\n",
        "  \n",
        "  return new_graph"
      ],
      "metadata": {
        "id": "-Zux3i_fyIFc"
      },
      "execution_count": 5,
      "outputs": []
    },
    {
      "cell_type": "markdown",
      "source": [
        "### Erdös-Renyi"
      ],
      "metadata": {
        "id": "V4PURQbpYI2I"
      }
    },
    {
      "cell_type": "code",
      "source": [
        "def Erdos_Renyi(n, m, name, direc = False, auto = False):\n",
        "  # inicial\n",
        "  adj_matrix = np.zeros((n, n), dtype = int) \n",
        "  nodes = []\n",
        "  edges = []    \n",
        "  \n",
        "  ########### genera nodos ###########\n",
        "  for i in range(n):\n",
        "    nodes.append(Node(i))\n",
        "  \n",
        "  ########### genera aristas ###########\n",
        "  for i in range(m):  \n",
        "    while True:    \n",
        "      start = random.randint(0, n-1)\n",
        "      end = random.randint(0, n-1)\n",
        "      # asegurando nodos diferentes\n",
        "      if ( (start != end) or auto ) and adj_matrix[start][end] == 0:\n",
        "        break\n",
        "    adj_matrix[start][end] = 1\n",
        "    # guarda arista nueva\n",
        "    edges.append(Edge(start, end))\n",
        "    # espejo para grafo no dirigido\n",
        "    if not direc:\n",
        "      adj_matrix[end][start] = 1\n",
        "\n",
        "  # dirigido    \n",
        "  if direc:\n",
        "    new_graph = Graph(name, gtype = \"digraph\")\n",
        "  # no dirigido \n",
        "  else:\n",
        "    new_graph = Graph(name)\n",
        "  \n",
        "  # G(N,E)\n",
        "  new_graph.add_nodes(nodes)\n",
        "  new_graph.add_edges(edges)\n",
        "  \n",
        "  return new_graph"
      ],
      "metadata": {
        "id": "fqXDidVG1qPb"
      },
      "execution_count": 6,
      "outputs": []
    },
    {
      "cell_type": "markdown",
      "source": [
        "### Gilbert"
      ],
      "metadata": {
        "id": "serr5a0jYvU7"
      }
    },
    {
      "cell_type": "code",
      "source": [
        "def Gilbert(n, p, name, direc = False, auto = False): \n",
        "  # inicial\n",
        "  nodes = []\n",
        "  edges = []  \n",
        "  \n",
        "  ########### genera nodos ###########  \n",
        "  for i in range(n):\n",
        "    nodes.append(Node(i))\n",
        "\n",
        "  ########### genera aristas ########### \n",
        "  edge_lim = n + auto - 1\n",
        "\n",
        "  for i in range(n):\n",
        "    if not direc:\n",
        "      lim = i + auto\n",
        "    for j in range(lim):\n",
        "      # condición probabilística (Gilbert)\n",
        "      if random.random() <= p:\n",
        "        if auto or (not i == j):\n",
        "          edges.append(Edge(i, j))\n",
        "\n",
        "  # dirigido    \n",
        "  if direc:\n",
        "    new_graph = Graph(name, gtype = \"digraph\")\n",
        "  # no dirigido \n",
        "  else:\n",
        "    new_graph = Graph(name)\n",
        "  \n",
        "  # G(N,E)\n",
        "  new_graph.add_nodes(nodes)\n",
        "  new_graph.add_edges(edges)\n",
        "  \n",
        "  return new_graph"
      ],
      "metadata": {
        "id": "bnTAUJHK30rb"
      },
      "execution_count": 7,
      "outputs": []
    },
    {
      "cell_type": "markdown",
      "source": [
        "### Geográfico simple"
      ],
      "metadata": {
        "id": "clqk0DS7ZK7q"
      }
    },
    {
      "cell_type": "code",
      "source": [
        "def eucl_dist(x1, y1, x2, y2):\n",
        "  dist = mt.sqrt((x2 - x1) ** 2 + (y2 - y1) ** 2)\n",
        "  return dist"
      ],
      "metadata": {
        "id": "2ymqom5t68au"
      },
      "execution_count": 8,
      "outputs": []
    },
    {
      "cell_type": "code",
      "source": [
        "def Simple_Geo(n, r, name, direc = False, auto = False):    \n",
        "  # inicial\n",
        "  nodes = []\n",
        "  edges = [] \n",
        "\n",
        "  x_coord = []\n",
        "  y_coord = []\n",
        "  \n",
        "  ########### genera nodos ###########\n",
        "  for i in range (n):\n",
        "    x = random.random()\n",
        "    x_coord.append(x)\n",
        "\n",
        "    y = random.random()\n",
        "    y_coord.append(y)\n",
        "    \n",
        "    nodes.append(Node(i,x = x, y = y))\n",
        "  \n",
        "  '''\n",
        "  # gráfica\n",
        "  for i in range(n):  \n",
        "    plt.text(x_coord[i], y_coord[i], i)\n",
        "  '''\n",
        "\n",
        "  ########### genera aristas ###########  \n",
        "  for i in range(n):\n",
        "    for j in range(n - i + auto - 1):\n",
        "      dist = eucl_dist(x_coord[i], y_coord[i], x_coord[n-j-1], y_coord[n-j-1])\n",
        "      # condición de distancia\n",
        "      if dist < r:\n",
        "        edges.append(Edge(i, n-j-1, d = dist))\n",
        "        #plt.plot([x_coord[i], x_coord[n-j-1]], [y_coord[i], y_coord[n-j-1]])\n",
        "  \n",
        "  # dirigido    \n",
        "  if direc:\n",
        "    new_graph = Graph(name, gtype = \"digraph\")\n",
        "  # no dirigido \n",
        "  else:\n",
        "    new_graph = Graph(name)\n",
        "  \n",
        "  # G(N,E)\n",
        "  new_graph.add_nodes(nodes)\n",
        "  new_graph.add_edges(edges)\n",
        "  \n",
        "  return new_graph"
      ],
      "metadata": {
        "id": "WrbuJHy058Aq"
      },
      "execution_count": 9,
      "outputs": []
    },
    {
      "cell_type": "markdown",
      "source": [
        "### Barabasi-Albert"
      ],
      "metadata": {
        "id": "xV4tGvnwZtV5"
      }
    },
    {
      "cell_type": "code",
      "source": [
        "def Barabasi_Albert(n, d, name, direc = False, auto = False):\n",
        "  # inicial\n",
        "  nodes = []\n",
        "  edges = [] \n",
        "\n",
        "  n_coord = []\n",
        "  \n",
        "  ########### genera nodos ###########    \n",
        "  for i in range(n): #generamos nuevo nodo\n",
        "    nodes.append(Node(i))\n",
        "    n_coord.append(0)\n",
        "    ########### genera aristas ###########\n",
        "    for j in range (0, i): # comparación con nodos existentes\n",
        "      p = 1 - n_coord[j] / d\n",
        "      if random.random() < p:\n",
        "        edges.append(Edge(i, j))\n",
        "\n",
        "        n_coord[i] += 1\n",
        "        n_coord[j] += 1\n",
        "        nodes[i].add_degree()\n",
        "        nodes[j].add_degree()\n",
        "\n",
        "  # dirigido    \n",
        "  if direc:\n",
        "    new_graph = Graph(name, gtype = \"digraph\")\n",
        "  # no dirigido \n",
        "  else:\n",
        "    new_graph = Graph(name)\n",
        "  \n",
        "  # G(N,E)\n",
        "  new_graph.add_nodes(nodes)\n",
        "  new_graph.add_edges(edges)\n",
        "  \n",
        "  return new_graph "
      ],
      "metadata": {
        "id": "o_6mzIIq8stK"
      },
      "execution_count": 10,
      "outputs": []
    },
    {
      "cell_type": "markdown",
      "source": [
        "### Dorogovtsev-Mendes"
      ],
      "metadata": {
        "id": "TPW3a89Pa6j6"
      }
    },
    {
      "cell_type": "code",
      "source": [
        "def Dorogovtsev_Mendes(n, name, direc = False, limit = 0):\n",
        "  # inicial\n",
        "  nodes = []\n",
        "  edges = [] \n",
        "  \n",
        "  # Primeros tres nodos\n",
        "  for i in range(3):\n",
        "    nodes.append(Node(i))\n",
        "\n",
        "  edges.append(Edge(0,1))\n",
        "  edges.append(Edge(1,2))\n",
        "  edges.append(Edge(2,0))\n",
        "\n",
        "  if limit:\n",
        "    for i in range(3):\n",
        "      nodes[i].add_degree()\n",
        "      nodes[i].add_degree()\n",
        "    #nodes[0].add_degree()\n",
        "    #nodes[1].add_degree()\n",
        "    #nodes[2].add_degree()\n",
        "    #nodes[0].add_degree()\n",
        "    #nodes[1].add_degree()\n",
        "    #nodes[2].add_degree()\n",
        "\n",
        "  ########### genera nodos ###########   \n",
        "  for i in range(n - 3):\n",
        "    nodes.append(Node(i + 3))\n",
        "\n",
        "    if limit:\n",
        "      flagged = True\n",
        "      while flagged:\n",
        "        pick = random.randint(0, len(edges) - 1)\n",
        "        if nodes[edges[pick].edge_start()].get_degree() < limit and nodes[edges[pick].edge_end()].get_degree() < limit:\n",
        "          flagged = False\n",
        "\n",
        "    ########### genera aristas ########### \n",
        "    else:\n",
        "      pick = random.randint(0, len(edges)-1)\n",
        "    edges.append(Edge(i+3, edges[pick].edge_start()))\n",
        "    edges.append(Edge(i+3, edges[pick].edge_end()))\n",
        "\n",
        "    if limit:\n",
        "      nodes[-1].add_degree()\n",
        "      nodes[-1].add_degree()\n",
        "      nodes[edges[pick].edge_start()].add_degree()\n",
        "      nodes[edges[pick].edge_end()].add_degree()\n",
        "\n",
        "  # dirigido    \n",
        "  if direc:\n",
        "    new_graph = Graph(name, gtype = \"digraph\")\n",
        "  # no dirigido \n",
        "  else:\n",
        "    new_graph = Graph(name)\n",
        "  \n",
        "  # G(N,E)\n",
        "  new_graph.add_nodes(nodes)\n",
        "  new_graph.add_edges(edges)\n",
        "  \n",
        "  return new_graph"
      ],
      "metadata": {
        "id": "1rQf6iga-VfI"
      },
      "execution_count": 11,
      "outputs": []
    },
    {
      "cell_type": "markdown",
      "source": [
        "## Archivos p1"
      ],
      "metadata": {
        "id": "sqHYJh1VBm-0"
      }
    },
    {
      "cell_type": "code",
      "source": [
        "generated_graphs = []\n",
        "# Malla\n",
        "generated_graphs.append(Grid(3, 10, \"Malla_30\"))\n",
        "generated_graphs.append(Grid(10, 10, \"Malla_100\"))\n",
        "generated_graphs.append(Grid(20, 25, \"Malla_500\"))\n",
        "#Erdös-Renyi\n",
        "generated_graphs.append(Erdos_Renyi(30, 50, \"E-R_30_m50\"))\n",
        "generated_graphs.append(Erdos_Renyi(100, 200, \"E-R_100_m200\"))\n",
        "generated_graphs.append(Erdos_Renyi(500, 1000, \"E-R_500_m1000\"))\n",
        "#Gilbert\n",
        "generated_graphs.append(Gilbert(30,.5,\"Gilbert_30_p50\"))\n",
        "generated_graphs.append(Gilbert(100,.3,\"Gilbert_100_p30\"))\n",
        "generated_graphs.append(Gilbert(500,.2,\"Gilbert_500_p20\"))\n",
        "# geográfico simple\n",
        "generated_graphs.append(Simple_Geo(30,.2,\"Geo_30_r2\"))\n",
        "generated_graphs.append(Simple_Geo(100,.4,\"Geo_100_r4\"))\n",
        "generated_graphs.append(Simple_Geo(500,.7,\"Geo_500_r7\"))\n",
        "# BarabasiAlbert\n",
        "generated_graphs.append(Barabasi_Albert(30,5,\"B-A_30_5\"))\n",
        "generated_graphs.append(Barabasi_Albert(100,3,\"B-A_100_3\"))\n",
        "generated_graphs.append(Barabasi_Albert(500,10,\"B-A_500_10\"))\n",
        "#Dorogovtsev Mendes\n",
        "generated_graphs.append(Dorogovtsev_Mendes(30,\"D-Mendes_30\"))\n",
        "generated_graphs.append(Dorogovtsev_Mendes(100,\"D-Mendes_100\"))\n",
        "generated_graphs.append(Dorogovtsev_Mendes(500,\"D-Mendes_500\"))"
      ],
      "metadata": {
        "id": "1wteif-_B4EW"
      },
      "execution_count": 12,
      "outputs": []
    },
    {
      "cell_type": "code",
      "source": [
        "for i in range(len(generated_graphs)):\n",
        "    generated_graphs[i].save_graph(generated_graphs[i].name)"
      ],
      "metadata": {
        "id": "7Psh5JenCrLb"
      },
      "execution_count": 13,
      "outputs": []
    },
    {
      "cell_type": "markdown",
      "source": [
        "# 2. Algoritmos de árboles (BFS y DFS) "
      ],
      "metadata": {
        "id": "3AvEJtHub0Mm"
      }
    },
    {
      "cell_type": "markdown",
      "source": [
        "## BFS"
      ],
      "metadata": {
        "id": "6_z-jG3YccUX"
      }
    },
    {
      "cell_type": "code",
      "source": [
        "def BFS(graph, s): #Búsqueda a lo Ancho, s= nodo fuente\n",
        "  og_graph = copy.deepcopy(graph)\n",
        "  # inicial\n",
        "  nodes = []\n",
        "  edges = []\n",
        "\n",
        "  nodes.append(Node(s))\n",
        "  \n",
        "  lst = [s]\n",
        "  switch = 1\n",
        "  added = 1\n",
        "\n",
        "  while switch:\n",
        "    switch=0\n",
        "    #rng=range(added)\n",
        "    added = 0\n",
        "    new_node_lst=[]\n",
        "\n",
        "    for i in range(added):\n",
        "      remove = []\n",
        "     \n",
        "      for j in range(len(og_graph.edges)): \n",
        "        # Si existe la arista\n",
        "        if (lst[- i - 1] in og_graph.edges[j].edge_nodes()): \n",
        "          # nodos\n",
        "          if og_graph.edges[j].edge_nodes().index(lst[- i - 1]): \n",
        "            new_node = og_graph.edges[j].edge_nodes()[0]\n",
        "\n",
        "          else:\n",
        "            new_node = og_graph.edges[j].edge_nodes()[1]  \n",
        "\n",
        "          if (new_node not in lst) and (new_node not in new_node_lst): \n",
        "            new_node_lst.append(new_node) \n",
        "            # aristas\n",
        "            edges.append(og_graph.edges[j])\n",
        "\n",
        "            added += 1\n",
        "            switch = 1\n",
        "          \n",
        "          remove.append(j) # checada\n",
        "\n",
        "      for k in range(len(remove)):\n",
        "        og_graph.edges.pop(remove[- k - 1])\n",
        "    \n",
        "    for k in range(len(new_node_lst)):    \n",
        "      nodes.append(Node(new_node_lst[k]))\n",
        "    lst.extend(new_node_lst)\n",
        "\n",
        "  name = og_graph.name + \"_BFS\"\n",
        "\n",
        "  # G(N,E)\n",
        "  new_graph= Graph(name)\n",
        "  new_graph.add_nodes(nodes)\n",
        "  new_graph.add_edges(edges)\n",
        "\n",
        "  return new_graph"
      ],
      "metadata": {
        "id": "c3hAPwapFsgE"
      },
      "execution_count": 14,
      "outputs": []
    },
    {
      "cell_type": "markdown",
      "source": [
        "## DFS"
      ],
      "metadata": {
        "id": "tdljQr-GdtMU"
      }
    },
    {
      "cell_type": "markdown",
      "source": [
        "### DFS-R"
      ],
      "metadata": {
        "id": "Qcx_unqndu7B"
      }
    },
    {
      "cell_type": "code",
      "source": [
        "def DFS_R(graph, s):\n",
        "  og_graph = copy.deepcopy(graph)\n",
        "  # inicial\n",
        "  nodes = []\n",
        "  edges = []\n",
        "\n",
        "  lst = [s]\n",
        "  def dig(node, lst, og_graph, edges):    \n",
        "    for j in range(len(og_graph.edges)): # todas \n",
        "      if node in og_graph.edges[j].edge_nodes(): # arista existente\n",
        "        if og_graph.edges[j].edge_nodes().index(node): \n",
        "          # Nuevo nodo \n",
        "          new_node = og_graph.edges[j].edge_nodes()[0]\n",
        "        else:\n",
        "          new_node = og_graph.edges[j].edge_nodes()[1]\n",
        "        if new_node not in lst: \n",
        "          # nueva arista\n",
        "          edges.append(Edge(node, new_node))\n",
        "          lst.append(new_node)\n",
        "          lst,edges = dig(new_node, lst, og_graph, edges) \n",
        "    return lst, edges\n",
        "\n",
        "  # nodos y aristas\n",
        "  node_lst,edges = dig(s, lst, og_graph, edges)\n",
        "  for i in range(len(node_lst)):\n",
        "    nodes.append(Node(lst[i]))\n",
        "  \n",
        "  # G(N,E)\n",
        "  name = og_graph.name + \"_DFS-R\"\n",
        "  new_graph= Graph(name)\n",
        "  new_graph.add_nodes(nodes)\n",
        "  new_graph.add_edges(edges)\n",
        "\n",
        "  return new_graph"
      ],
      "metadata": {
        "id": "cvJOIH8KMaOy"
      },
      "execution_count": 15,
      "outputs": []
    },
    {
      "cell_type": "markdown",
      "source": [
        "### DFS-I"
      ],
      "metadata": {
        "id": "IU5DL1Y7ePSa"
      }
    },
    {
      "cell_type": "code",
      "source": [
        "def DFS_I(graph, s):\n",
        "  og_graph = copy.deepcopy(graph)\n",
        "  # inicial\n",
        "  nodes = []\n",
        "  edges = []\n",
        "\n",
        "  nodes.append(Node(s))\n",
        "  lst = [s]\n",
        "  \n",
        "  pos=0\n",
        "  while pos<len(lst):\n",
        "    node=lst[pos]\n",
        "    for j in range(len(og_graph.edges)): #Para todas las aristas\n",
        "      if node in og_graph.edges[j].edge_nodes(): #Si está\n",
        "        if og_graph.edges[j].edge_nodes().index(node): #Si está en la 2da posición\n",
        "          new_node=og_graph.edges[j].edge_nodes()[0]\n",
        "        else:\n",
        "          new_node=og_graph.edges[j].edge_nodes()[1]\n",
        "        if new_node not in lst: #el otro valor no en L, nos vamos hacia allá\n",
        "          lst=[new_node]+lst\n",
        "          edges.append(Edge(node,new_node))\n",
        "          nodes.append(Node(new_node))\n",
        "          suma=0\n",
        "          pos=0\n",
        "          break\n",
        "    pos+=suma\n",
        "    suma=1\n",
        "  \n",
        "  # G(N,E)\n",
        "  name = og_graph.name + \"_DFS-I\"\n",
        "  new_graph= Graph(name)\n",
        "  new_graph.add_nodes(nodes)\n",
        "  new_graph.add_edges(edges)\n",
        "\n",
        "  return new_graph"
      ],
      "metadata": {
        "id": "juRd1hIrOCGx"
      },
      "execution_count": 16,
      "outputs": []
    },
    {
      "cell_type": "markdown",
      "source": [
        "## Archivos (P2)"
      ],
      "metadata": {
        "id": "BLXUo6KePMI3"
      }
    },
    {
      "cell_type": "code",
      "source": [
        "for i in range(len(generated_graphs)):\n",
        "  a = BFS(generated_graphs[i], random.randint(0, len(generated_graphs[i].nodes) - 1)) \n",
        "  a.save_graph(a.name)\n",
        "\n",
        "  b = DFS_R(generated_graphs[i], random.randint(0, len(generated_graphs[i].nodes) - 1))\n",
        "  b.save_graph(b.name)\n",
        "\n",
        "  c = DFS_I(generated_graphs[i], random.randint(0, len(generated_graphs[i].nodes) - 1))\n",
        "  c.save_graph(c.name)"
      ],
      "metadata": {
        "id": "v_2BdoPNhwDZ"
      },
      "execution_count": 17,
      "outputs": []
    },
    {
      "cell_type": "markdown",
      "source": [
        "# 3. Algoritmo de Dijkstra"
      ],
      "metadata": {
        "id": "0Wh36O7deudM"
      }
    },
    {
      "cell_type": "code",
      "source": [
        "def Dijkstra(graph):\n",
        "  new_graph = copy.deepcopy(graph)\n",
        "\n",
        "  new_node = len(new_graph.nodes)\n",
        "  start = round(random.random() * (new_node - 1))\n",
        "  \n",
        "  ## Árbol de mínima expansión ##\n",
        " \n",
        "  n_matrix = np.zeros((new_node, new_node), dtype = int)\n",
        "  \n",
        "  for i in range(len(new_graph.edges)):\n",
        "    n_matrix[new_graph.edges[i].start][new_graph.edges[i].end] = new_graph.edges[i].weight\n",
        "    n_matrix[new_graph.edges[i].end][new_graph.edges[i].start] = new_graph.edges[i].weight\n",
        "  \n",
        "  # inicial\n",
        "  known_nodes = [start] \n",
        "  known_nodes_w = [0] # pesos\n",
        "  known_edges = [] \n",
        "  # adyacentes\n",
        "  neighbor_nodes = np.asarray(np.where(n_matrix[start] > 0)[0])     \n",
        "  neighbor_edges = []  \n",
        "  \n",
        "  for i in range(len(neighbor_nodes)):\n",
        "    neighbor_edges.append([start,neighbor_nodes[i]])\n",
        "  # pesos \n",
        "  neighbor_edges_w = n_matrix[start][neighbor_nodes]   \n",
        "  neighbor_nodes_w = n_matrix[start][neighbor_nodes]   \n",
        "    \n",
        "  # regresa los recorridos a peso 0\n",
        "  for i in range(new_node):\n",
        "    n_matrix[start][i] = 0\n",
        "    n_matrix[i][start] = 0    \n",
        "\n",
        "  while len(neighbor_nodes):\n",
        "    pick = np.where(node_lst_w==min(node_lst_w))[0] # escoge peso min\n",
        "    pick = pick[0]\n",
        "    # en camino\n",
        "    known_edges.append(neighbor_edges[pick])\n",
        "    known_nodes.append(neighbor_nodes[pick])\n",
        "    known_nodes_w.append(neighbor_nodes_w[pick])\n",
        "        \n",
        "    # generados\n",
        "    node_pick = neighbor_nodes[pick]\n",
        "    new_node_lst = np.where(n_matrix[node_pick] > 0)[0]\n",
        "    new_edge_lst=[]\n",
        "    \n",
        "    for i in range(len(new_node_lst)):\n",
        "      new_edge_lst.append([node_pick, new_node_lst[i]])\n",
        "    \n",
        "    new_edge_lst_w = n_matrix[node_pick][new_node_lst]\n",
        "    new_node_lst_w = new_edge_lst_w + node_lst_w[pick]\n",
        "\n",
        "    # update para nodos nuevos   \n",
        "    for i in range(len(new_node_lst)):\n",
        "      if new_node_lst[i] not in neighbor_nodes: \n",
        "        neighbor_nodes = np.append(neighbor_nodes, new_node_lst[i])\n",
        "        neighbor_edges.append(new_edge_lst[i])\n",
        "        edge_lst_w = np.append(edge_lst_w, new_edge_lst_w[i])\n",
        "        node_lst_w = np.append(node_lst_w, new_node_lst_w[i])\n",
        "      \n",
        "      #existe camino al nodo\n",
        "      else:       \n",
        "        maybe = np.where(neighbor_nodes == new_node_lst[i])[0] # posición \n",
        "        maybe = maybe[0]\n",
        "        # peso min \n",
        "        if node_lst_w[maybe] > new_node_lst_w[i]: \n",
        "          neighbor_edges[maybe] = new_edge_lst[i]\n",
        "          node_lst_w[maybe] = new_node_lst_w[i]\n",
        "          edge_lst_w[maybe] = new_edge_lst_w[i]\n",
        "   \n",
        "    # evita repetición\n",
        "    for i in range(new_node):\n",
        "      n_matrix[node_pick][i]=0\n",
        "      n_matrix[i][node_pick]=0\n",
        "\n",
        "    # update adyacentes\n",
        "    neighbor_nodes = np.delete(neighbor_nodes, pick)\n",
        "    neighbor_edges.pop(pick)\n",
        "    node_lst_w = np.delete(node_lst_w,pick)\n",
        "    edge_lst_w = np.delete(edge_lst_w,pick)    \n",
        "\n",
        "  ### camino\n",
        "  path = []\n",
        "  for i in range(len(known_edges)):\n",
        "    if known_edges[i][1] == end:\n",
        "      path.append(known_edges[i])    \n",
        "  while path[-1][0] != start:\n",
        "    for i in range(len(known_edges)):\n",
        "      if known_edges[i][1]==path[-1][0]:\n",
        "        path.append(known_edges[i])    \n",
        "               \n",
        "  # G(E,V)\n",
        "  new_graph.name = graph.name + \"_\" + str(start)\n",
        "  new_graph.path = True\n",
        "  new_graph.edge_list = known_edges\n",
        "  new_graph.node_list = known_nodes\n",
        "  new_graph.weight_list = known_nodes_w\n",
        "  \n",
        "  return new_graph\n"
      ],
      "metadata": {
        "id": "Rio8B7QzPfEA"
      },
      "execution_count": 18,
      "outputs": []
    },
    {
      "cell_type": "markdown",
      "source": [
        "## Archivos (P3)"
      ],
      "metadata": {
        "id": "YV78qMnDh51-"
      }
    },
    {
      "cell_type": "code",
      "source": [
        "def rand_weight(graph, max_w):    \n",
        "  new_graph = copy.deepcopy(graph)\n",
        "  for i in range(len(new_graph.edges)):\n",
        "    new_graph.edges[i].weight = int(round(random.random() * (max_w - 1)) + 1)\n",
        "  \n",
        "  return new_graph"
      ],
      "metadata": {
        "id": "0hBxyTjBkVhh"
      },
      "execution_count": 19,
      "outputs": []
    },
    {
      "cell_type": "code",
      "source": [
        "generated_graphs = []\n",
        "# Malla\n",
        "generated_graphs.append(Grid(10, 10, \"Malla_100\"))\n",
        "generated_graphs.append(Grid(200, 25, \"Malla_5000\"))\n",
        "#Erdös-Renyi\n",
        "generated_graphs.append(Erdos_Renyi(100, 200, \"E-R_100_m200\"))\n",
        "generated_graphs.append(Erdos_Renyi(5000, 1000, \"E-R_5000_m1000\"))\n",
        "#Gilbert\n",
        "generated_graphs.append(Gilbert(100,.3,\"Gilbert_100_p30\"))\n",
        "generated_graphs.append(Gilbert(5000,.2,\"Gilbert_5000_p20\"))\n",
        "# geográfico simple\n",
        "generated_graphs.append(Simple_Geo(100,.4,\"Geo_100_r4\"))\n",
        "generated_graphs.append(Simple_Geo(5000,.7,\"Geo_5000_r7\"))\n",
        "# BarabasiAlbert\n",
        "generated_graphs.append(Barabasi_Albert(100,3,\"B-A_100_3\"))\n",
        "generated_graphs.append(Barabasi_Albert(5000,10,\"B-A_500_10\"))\n",
        "#Dorogovtsev Mendes\n",
        "generated_graphs.append(Dorogovtsev_Mendes(100,\"D-Mendes_100\"))\n",
        "generated_graphs.append(Dorogovtsev_Mendes(5000,\"D-Mendes_5000\"))"
      ],
      "metadata": {
        "id": "2I7aFtXciVdt"
      },
      "execution_count": 20,
      "outputs": []
    },
    {
      "cell_type": "code",
      "source": [
        "for i in range(len(generated_graphs)):\n",
        "    generated_graphs[i] = rand_weight(generated_graphs[i], 100)\n",
        "    generated_graphs[i].save_graph(generated_graphs[i].name)\n",
        "    a = Dijkstra(generated_graphs[i])\n",
        "    a.save_graph(a.name)"
      ],
      "metadata": {
        "id": "fGv57Gtoh8im"
      },
      "execution_count": 21,
      "outputs": []
    },
    {
      "cell_type": "markdown",
      "source": [
        "# 4. Kruskal y Prim"
      ],
      "metadata": {
        "id": "2jAUnumgf7hi"
      }
    },
    {
      "cell_type": "markdown",
      "source": [
        "## Kruskal"
      ],
      "metadata": {
        "id": "6kYLah9ggAEw"
      }
    },
    {
      "cell_type": "code",
      "source": [
        "def choose_weight(elem):\n",
        "  return elem[2]  "
      ],
      "metadata": {
        "id": "0Q6UQ-B5dOmM"
      },
      "execution_count": 22,
      "outputs": []
    },
    {
      "cell_type": "markdown",
      "source": [
        "### Kruskal directo"
      ],
      "metadata": {
        "id": "w5YERlpLgxg7"
      }
    },
    {
      "cell_type": "code",
      "source": [
        "def Kruskal_D(graph):\n",
        "  new_graph = copy.deepcopy(a)\n",
        "\n",
        "  edges_lst = []\n",
        "  for i in range(len(new_graph.edges)):\n",
        "    edges_lst.append([new_graph.edges[i].start, new_graph.edges[i].end, new_graph.edges[i].weight])\n",
        "  edges_lst.sort(key = choose_weight)\n",
        "  \n",
        "  # unión\n",
        "  pairs = []\n",
        "  edges_lst_n = []\n",
        "\n",
        "  #Inicial\n",
        "  pairs.append([edges_lst[0][0], edges_lst[0][1]]) #El primer conjunto\n",
        "    \n",
        "  edges_lst_n.append([edges_lst[0][0], edges_lst[0][1]])\n",
        "  exp_w = edges_lst[0][2]\n",
        "  edges_lst.pop(0)\n",
        "  for i in range(len(new_graph.edges)):\n",
        "    for j in range(len(edges_lst)):\n",
        "      same = False\n",
        "      p_pairs = False\n",
        "      s_pairs = False\n",
        "      p_index = 0\n",
        "      s_index = 0\n",
        "\n",
        "      for k in range(len(pairs)):        \n",
        "        p_pairs = (edges_lst[j][0] in pairs[k]) or p_pairs\n",
        "        if edges_lst[j][0] in pairs[k]:\n",
        "          p_index = k\n",
        "        if edges_lst[j][1] in pairs[k]:\n",
        "          s_index = k\n",
        "        s_pairs = (edges_lst[j][1] in pairs[k]) or s_pairs\n",
        "        same = ((edges_lst[j][0] in pairs[k]) and (edges_lst[j][1] in pairs[k])) or same\n",
        "\n",
        "      # pop en en mismo conjunto     \n",
        "      if p_pairs and s_pairs and same: \n",
        "        edges_lst.pop(j)   \n",
        "        break\n",
        "      # union si cada una en un cjto  \n",
        "      elif p_pairs and s_pairs and not same: \n",
        "        pairs[p_index].extend(pairs[s_index])   \n",
        "        pairs.pop(s_index)\n",
        "\n",
        "        edges_lst_n.append([edges_lst[j][0], edges_lst[j][1]])\n",
        "        exp_w+=edges_lst[j][2]\n",
        "        edges_lst.pop(j)\n",
        "        break\n",
        "      # 1 en cjto\n",
        "      elif p_pairs and not s_pairs:   \n",
        "        pairs[p_index].extend([edges_lst[j][1]])\n",
        "        edges_lst_n.append([edges_lst[j][0],edges_lst[j][1]])\n",
        "        exp_w+=edges_lst[j][2]\n",
        "        edges_lst.pop(j)\n",
        "        break\n",
        "      # 2 en cjto\n",
        "      elif not p_pairs and s_pairs:   \n",
        "        pairs[p_index].extend([edges_lst[j][0]]) \n",
        "        edges_lst_n.append([edges_lst[j][0], edges_lst[j][1]])\n",
        "        exp_w+=edges_lst[j][2]\n",
        "        edges_lst.pop(j)\n",
        "        break\n",
        "\n",
        "  new_graph.name = new_graph.Nom + \"_Kr-D_\" + str(exp_w)\n",
        "  new_graph.path = True\n",
        "  new_graph.edge_list = edges_lst_n\n",
        "\n",
        "  return new_graph\n"
      ],
      "metadata": {
        "id": "ZeOJx69mYj5B"
      },
      "execution_count": 23,
      "outputs": []
    },
    {
      "cell_type": "markdown",
      "source": [
        "### Kruskal inverso"
      ],
      "metadata": {
        "id": "02WE9f5ohmPB"
      }
    },
    {
      "cell_type": "code",
      "source": [
        "def Kruskal_I(graph):\n",
        "  new_graph=copy.deepcopy(graph)\n",
        "  edges = []\n",
        "  \n",
        "  for i in range(len(new_graph.edges)):\n",
        "    edges.append([new_graph.edges[i].start,new_graph.edges[i].end,new_graph.edges[i].weight,i])\n",
        "  edges.sort(reverse = True, key = choose_weight)\n",
        "    \n",
        "  mid_graph=copy.deepcopy(new_graph)\n",
        "  aux = DFS_I(mid_graph, 0)\n",
        "  node_con = len(aux.nodes)\n",
        "  j = 0\n",
        "\n",
        "  while len(edges) != (node_con-1) :\n",
        "    temp_graph = copy.deepcopy(mid_graph)\n",
        "    temp_graph.edges.pop(edges[j][3])\n",
        "    aux = DFS_R(temp_graph,0)\n",
        "    if len(aux.nodes) == node_con: \n",
        "      mid_graph = copy.deepcopy(temp_graph)\n",
        "      #Actualizar aristas\n",
        "      for k in range(len(edges)):\n",
        "        if edges[k][3] > edges[j][3]:\n",
        "          edges[k][3] = edges[k][3]-1\n",
        "      edges.pop(j)\n",
        "    else:\n",
        "      j += 1\n",
        "  exp_weight = 0\n",
        "  edges_lst_n = []\n",
        "  for i in range(len(edges)):\n",
        "    exp_weight += edges[i][2]\n",
        "    edges_lst_n.append([edges[i][0], edges[i][1]])\n",
        "  \n",
        "  new_graph.name = new_graph.name + \"_KrI_\" + str(exp_weight)\n",
        "  new_graph.path = True\n",
        "  new_graph.edge_list = edges_lst_n\n",
        "\n",
        "  return new_graph"
      ],
      "metadata": {
        "id": "cWtJj0_1b9zC"
      },
      "execution_count": 24,
      "outputs": []
    },
    {
      "cell_type": "markdown",
      "source": [
        "## Prim"
      ],
      "metadata": {
        "id": "X0sJipbkgDQZ"
      }
    },
    {
      "cell_type": "code",
      "source": [
        "def Prim(a):\n",
        "  new_graph=copy.deepcopy(a)\n",
        "  \n",
        "  edge_lst=[]\n",
        "  for i in range(len(new_graph.edges)):\n",
        "    edge_lst.append([new_graph.edges[i].start,new_graph.edges[i].end,new_graph.edges[i].weight])\n",
        "  edge_lst.sort(key = choose_weight)\n",
        "    \n",
        "  pairs=[]\n",
        "  edge_lst_n=[]\n",
        "  \n",
        "  # inicial\n",
        "  pairs.append(edge_lst[0][0])\n",
        "  pairs.append(edge_lst[0][1])\n",
        "  edge_lst_n.append([edge_lst[0][0],edge_lst[0][1]])\n",
        "  exp_weight=edge_lst[0][2]\n",
        "  edge_lst.pop(0)\n",
        "    \n",
        "  for i in range(len(new_graph.edges)):\n",
        "    for j in range(len(edge_lst)):\n",
        "        p_pairs = edge_lst[j][0] in pairs\n",
        "        s_pairs = edge_lst[j][1] in pairs\n",
        "        \n",
        "        if p_pairs and s_pairs:\n",
        "          edge_lst.pop(j)\n",
        "          break\n",
        "        \n",
        "        elif p_pairs and not s_pairs:\n",
        "          pairs.append(edge_lst[j][1])\n",
        "          edge_lst_n.append([edge_lst[j][0],edge_lst[j][1]])\n",
        "          exp_weight += edge_lst[j][2]\n",
        "          edge_lst.pop(j)\n",
        "          break\n",
        "\n",
        "        elif not p_pairs and s_pairs:\n",
        "          pairs.append(edge_lst[j][0])\n",
        "          edge_lst_n.append([edge_lst[j][0], edge_lst[j][1]])\n",
        "          exp_weight += edge_lst[j][2]\n",
        "          edge_lst.pop(j)\n",
        "          break\n",
        "\n",
        "  new_graph.name = new_graph.name + \"_Prim_\" + str(exp_weight)  \n",
        "  new_graph.path = True\n",
        "  new_graph.edge_list = edge_lst_n\n",
        "  return new_graph"
      ],
      "metadata": {
        "id": "s_uuNJoQeuwS"
      },
      "execution_count": 25,
      "outputs": []
    },
    {
      "cell_type": "markdown",
      "source": [
        "## Archivos (P4)"
      ],
      "metadata": {
        "id": "t8hiZyfDi9RK"
      }
    },
    {
      "cell_type": "code",
      "source": [
        "for i in range(len(generated_graphs)):\n",
        "  a = Kruskal_D(generated_graphs[i]) \n",
        "  a.save_graph(a.Name)\n",
        "\n",
        "  b = Kruskal_I(generated_graphs[i])\n",
        "  b.save_graph(b.Name)\n",
        "\n",
        "  c = Prim(generated_graphs[i])\n",
        "  c.save_graph(c.Name)"
      ],
      "metadata": {
        "id": "GA_PIktwi_2j"
      },
      "execution_count": 28,
      "outputs": []
    },
    {
      "cell_type": "code",
      "source": [
        ""
      ],
      "metadata": {
        "id": "qTgHHFLPl8R1"
      },
      "execution_count": 26,
      "outputs": []
    }
  ]
}
